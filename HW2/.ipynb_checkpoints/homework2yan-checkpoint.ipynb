{
 "cells": [
  {
   "cell_type": "markdown",
   "metadata": {},
   "source": [
    "# CSE258 Homework 2\n",
    "# Siwen Yan     \n",
    "# A53093655"
   ]
  },
  {
   "cell_type": "markdown",
   "metadata": {},
   "source": [
    "# Problem 1."
   ]
  },
  {
   "cell_type": "code",
   "execution_count": 1,
   "metadata": {
    "collapsed": false
   },
   "outputs": [
    {
     "data": {
      "text/plain": [
       "('homework2_starter.py', <httplib.HTTPMessage instance at 0x1048c5fc8>)"
      ]
     },
     "execution_count": 1,
     "metadata": {},
     "output_type": "execute_result"
    }
   ],
   "source": [
    "import urllib\n",
    "urllib.urlretrieve(\"http://jmcauley.ucsd.edu/code/homework2_starter.py\", \"homework2_starter.py\")"
   ]
  },
  {
   "cell_type": "code",
   "execution_count": 2,
   "metadata": {
    "collapsed": false
   },
   "outputs": [
    {
     "data": {
      "text/plain": [
       "('winequality-white.csv', <httplib.HTTPMessage instance at 0x104e3b950>)"
      ]
     },
     "execution_count": 2,
     "metadata": {},
     "output_type": "execute_result"
    }
   ],
   "source": [
    "urllib.urlretrieve(\"http://archive.ics.uci.edu/ml/machine-learning-databases/wine-quality/winequality-white.csv\", \"winequality-white.csv\")"
   ]
  },
  {
   "cell_type": "code",
   "execution_count": 3,
   "metadata": {
    "collapsed": true
   },
   "outputs": [],
   "source": [
    "import numpy\n",
    "import urllib\n",
    "import scipy.optimize\n",
    "import random\n",
    "from math import exp\n",
    "from math import log"
   ]
  },
  {
   "cell_type": "code",
   "execution_count": 4,
   "metadata": {
    "collapsed": true
   },
   "outputs": [],
   "source": [
    "random.seed(0)\n",
    "numpy.random.seed(0)"
   ]
  },
  {
   "cell_type": "code",
   "execution_count": 5,
   "metadata": {
    "collapsed": true
   },
   "outputs": [],
   "source": [
    "def parseData(fname):\n",
    "    for l in urllib.urlopen(fname):\n",
    "        yield eval(l)"
   ]
  },
  {
   "cell_type": "code",
   "execution_count": 6,
   "metadata": {
    "collapsed": false
   },
   "outputs": [
    {
     "name": "stdout",
     "output_type": "stream",
     "text": [
      "Reading data...\n",
      "done\n"
     ]
    }
   ],
   "source": [
    "print \"Reading data...\"\n",
    "dataFile = open(\"winequality-white.csv\")\n",
    "header = dataFile.readline()\n",
    "fields = [\"constant\"] + header.strip().replace('\"','').split(';')\n",
    "featureNames = fields[:-1]\n",
    "labelName = fields[-1]\n",
    "lines = [[1.0] + [float(x) for x in l.split(';')] for l in dataFile]\n",
    "X = [l[:-1] for l in lines]\n",
    "y = [l[-1] > 5 for l in lines]\n",
    "print \"done\""
   ]
  },
  {
   "cell_type": "code",
   "execution_count": 7,
   "metadata": {
    "collapsed": false,
    "scrolled": true
   },
   "outputs": [
    {
     "name": "stdout",
     "output_type": "stream",
     "text": [
      "lambda = 0;\ttrain=0.732843137255; validate=0.720759338641; test=0.778322106552\n",
      "lambda = 0.01;\ttrain=0.732230392157; validate=0.721984078383; test=0.780159216167\n",
      "lambda = 1.0;\ttrain=0.726715686275; validate=0.704225352113; test=0.766074709124\n",
      "lambda = 100.0;\ttrain=0.658700980392; validate=0.630128597673; test=0.696876913656\n"
     ]
    }
   ],
   "source": [
    "def inner(x,y):\n",
    "    return sum([x[i]*y[i] for i in range(len(x))])\n",
    "\n",
    "def sigmoid(x):\n",
    "    return 1.0 / (1 + exp(-x))\n",
    "\n",
    "##################################################\n",
    "# Logistic regression by gradient ascent         #\n",
    "##################################################\n",
    "\n",
    "# NEGATIVE Log-likelihood\n",
    "def f(theta, X, y, lam):\n",
    "    loglikelihood = 0\n",
    "    for i in range(len(X)):\n",
    "        logit = inner(X[i], theta)\n",
    "        loglikelihood -= log(1 + exp(-logit))\n",
    "        if not y[i]:\n",
    "            loglikelihood -= logit\n",
    "    for k in range(len(theta)):\n",
    "        loglikelihood -= lam * theta[k]*theta[k]\n",
    "    # for debugging\n",
    "    # print \"ll =\", loglikelihood\n",
    "    return -loglikelihood\n",
    "\n",
    "# NEGATIVE Derivative of log-likelihood\n",
    "def fprime(theta, X, y, lam):\n",
    "    dl = [0]*len(theta)\n",
    "    for i in range(len(X)):\n",
    "        logit = inner(X[i], theta)\n",
    "        for k in range(len(theta)):\n",
    "            dl[k] += X[i][k] * (1 - sigmoid(logit))\n",
    "            if not y[i]:\n",
    "                dl[k] -= X[i][k]\n",
    "    for k in range(len(theta)):\n",
    "        dl[k] -= lam*2*theta[k]\n",
    "    return numpy.array([-x for x in dl])\n",
    "\n",
    "X_train = X[:int(len(X)/3)]\n",
    "y_train = y[:int(len(y)/3)]\n",
    "X_validate = X[int(len(X)/3):int(2*len(X)/3)]\n",
    "y_validate = y[int(len(y)/3):int(2*len(y)/3)]\n",
    "X_test = X[int(2*len(X)/3):]\n",
    "y_test = y[int(2*len(X)/3):]\n",
    "\n",
    "##################################################\n",
    "# Train                                          #\n",
    "##################################################\n",
    "\n",
    "def train(lam):\n",
    "    theta,_,_ = scipy.optimize.fmin_l_bfgs_b(f, [0]*len(X[0]), fprime, pgtol = 10, args = (X_train, y_train, lam))\n",
    "    return theta\n",
    "\n",
    "##################################################\n",
    "# Predict                                        #\n",
    "##################################################\n",
    "\n",
    "def performance(theta):\n",
    "    scores_train = [inner(theta,x) for x in X_train]\n",
    "    scores_validate = [inner(theta,x) for x in X_validate]\n",
    "    scores_test = [inner(theta,x) for x in X_test]\n",
    "\n",
    "    predictions_train = [s > 0 for s in scores_train]\n",
    "    predictions_validate = [s > 0 for s in scores_validate]\n",
    "    predictions_test = [s > 0 for s in scores_test]\n",
    "\n",
    "    correct_train = [(a==b) for (a,b) in zip(predictions_train,y_train)]\n",
    "    correct_validate = [(a==b) for (a,b) in zip(predictions_validate,y_validate)]\n",
    "    correct_test = [(a==b) for (a,b) in zip(predictions_test,y_test)]\n",
    "  \n",
    "    acc_train = sum(correct_train) * 1.0 / len(correct_train)\n",
    "    acc_validate = sum(correct_validate) * 1.0 / len(correct_validate)\n",
    "    acc_test = sum(correct_test) * 1.0 / len(correct_test)\n",
    "    return acc_train, acc_validate, acc_test\n",
    "\n",
    "##################################################\n",
    "# Validation pipeline                            #\n",
    "##################################################\n",
    "\n",
    "for lam in [0, 0.01, 1.0, 100.0]:\n",
    "    theta = train(lam)\n",
    "    acc_train, acc_validate, acc_test = performance(theta)\n",
    "    print(\"lambda = \" + str(lam) + \";\\ttrain=\" + str(acc_train) + \"; validate=\" + str(acc_validate) + \"; test=\" + str(acc_test))"
   ]
  },
  {
   "cell_type": "code",
   "execution_count": 8,
   "metadata": {
    "collapsed": false
   },
   "outputs": [
    {
     "name": "stdout",
     "output_type": "stream",
     "text": [
      "lambda = 0;\ttrain=0.752450980392; validate=0.758726270667; test=0.738518064911\n",
      "lambda = 0.01;\ttrain=0.748774509804; validate=0.757501530925; test=0.738518064911\n",
      "lambda = 1.0;\ttrain=0.732230392157; validate=0.756889161053; test=0.731781996326\n",
      "lambda = 100.0;\ttrain=0.66237745098; validate=0.681567666871; test=0.680342927128\n"
     ]
    }
   ],
   "source": [
    "# reshuffle the data\n",
    "data = zip(X, y)\n",
    "#numpy.random.shuffle(data)\n",
    "random.shuffle(data)\n",
    "X_shuffle = [list(l[:-1])[0] for l in data]\n",
    "y_shuffle = [l[-1] for l in data]\n",
    "\n",
    "X_train = X_shuffle[:int(len(X_shuffle)/3)]\n",
    "y_train = y_shuffle[:int(len(y_shuffle)/3)]\n",
    "X_validate = X_shuffle[int(len(X)/3):int(2*len(X_shuffle)/3)]\n",
    "y_validate = y_shuffle[int(len(y_shuffle)/3):int(2*len(y_shuffle)/3)]\n",
    "X_test = X_shuffle[int(2*len(X_shuffle)/3):]\n",
    "y_test = y_shuffle[int(2*len(X_shuffle)/3):]\n",
    "\n",
    "for lam in [0, 0.01, 1.0, 100.0]:\n",
    "    theta = train(lam)\n",
    "    acc_train, acc_validate, acc_test = performance(theta)\n",
    "    print(\"lambda = \" + str(lam) + \";\\ttrain=\" + str(acc_train) + \"; validate=\" + str(acc_validate) + \"; test=\" + str(acc_test))"
   ]
  },
  {
   "cell_type": "code",
   "execution_count": 7,
   "metadata": {
    "collapsed": true
   },
   "outputs": [],
   "source": [
    "# get the not shuffled data\n",
    "X_train = X[:int(len(X)/3)]\n",
    "y_train = y[:int(len(y)/3)]\n",
    "X_validate = X[int(len(X)/3):int(2*len(X)/3)]\n",
    "y_validate = y[int(len(y)/3):int(2*len(y)/3)]\n",
    "X_test = X[int(2*len(X)/3):]\n",
    "y_test = y[int(2*len(X)/3):]"
   ]
  },
  {
   "cell_type": "markdown",
   "metadata": {},
   "source": [
    "# Problem 2."
   ]
  },
  {
   "cell_type": "code",
   "execution_count": 8,
   "metadata": {
    "collapsed": false
   },
   "outputs": [],
   "source": [
    "# p2.\n",
    "def performance(theta, X, y):\n",
    "    scores = [inner(theta,x) for x in X]\n",
    "    predictions = [s > 0 for s in scores]\n",
    "    tp_num, p_num = truePositive(predictions, y)\n",
    "    fp_num = p_num - tp_num\n",
    "    tn_num, n_num = trueNegative(predictions, y)\n",
    "    fn_num = n_num - tn_num\n",
    "    \n",
    "    return tp_num, tn_num, fp_num, fn_num, balancedErrorRate(tp_num*1.0/(tp_num+fn_num), tn_num*1.0/(tn_num+fp_num))\n",
    "\n",
    "def truePositive(predictions, y):\n",
    "    s = 0\n",
    "    t = 0\n",
    "    for (pi, yi) in zip(predictions, y):\n",
    "        if pi:\n",
    "            s += 1\n",
    "            if yi:\n",
    "                t += 1\n",
    "    return t, s\n",
    "\n",
    "def trueNegative(predictions, y):\n",
    "    s = 0\n",
    "    t = 0\n",
    "    for (pi, yi) in zip(predictions, y):\n",
    "        if not pi:\n",
    "            s += 1\n",
    "            if not yi:\n",
    "                t += 1\n",
    "    return t, s\n",
    "\n",
    "def balancedErrorRate(tp, tn):\n",
    "    return 1 - 1.0 / 2 * (tp + tn)\n",
    "    "
   ]
  },
  {
   "cell_type": "code",
   "execution_count": 9,
   "metadata": {
    "collapsed": false
   },
   "outputs": [
    {
     "name": "stdout",
     "output_type": "stream",
     "text": [
      "lambda = 0.01; for test set:\n",
      "true positive: 1129, true negative: 145, false positive: 321, false negative: 38, balanced error rate: 0.360701663412\n"
     ]
    }
   ],
   "source": [
    "lam = 0.01\n",
    "theta = train(lam)\n",
    "tp_test, tn_test, fp_test, fn_test, ber_test = performance(theta, X_test, y_test)\n",
    "\n",
    "print(\"lambda = \" + str(lam) + \"; for test set:\")\n",
    "print(\"true positive: \" + str(tp_test) + \", true negative: \" + str(tn_test) + \", false positive: \" + str(fp_test) + \", false negative: \" + str(fn_test) + \", balanced error rate: \" + str(ber_test))"
   ]
  },
  {
   "cell_type": "markdown",
   "metadata": {},
   "source": [
    "# Problem 3."
   ]
  },
  {
   "cell_type": "code",
   "execution_count": 10,
   "metadata": {
    "collapsed": false
   },
   "outputs": [],
   "source": [
    "# 3.\n",
    "def performance(theta, X, y, r):\n",
    "    scores = [inner(theta,x) for x in X]\n",
    "    \n",
    "    res = sorted(zip(scores, y), key=lambda x: -x[0])\n",
    "    precisions = []\n",
    "    recalls = []\n",
    "    nt = numTrue(y)\n",
    "    for ra in r:\n",
    "        precisions.append(precision(res[:ra]))\n",
    "        recalls.append(recall(res[:ra], nt))\n",
    "    \n",
    "    return precisions, recalls\n",
    "\n",
    "def precision(pairs):\n",
    "    return sum([p[1] for p in pairs]) * 1.0 / len(pairs)\n",
    "\n",
    "def numTrue(y):\n",
    "    return sum(y)\n",
    "\n",
    "def recall(pairs, s):\n",
    "    return sum([p[1] for p in pairs]) * 1.0 / s\n"
   ]
  },
  {
   "cell_type": "code",
   "execution_count": 11,
   "metadata": {
    "collapsed": false
   },
   "outputs": [
    {
     "name": "stdout",
     "output_type": "stream",
     "text": [
      "top 10; for the test set\n",
      "precision: 1.0, recall: 0.00856898029135\n",
      "top 500; for the test set\n",
      "precision: 0.956, recall: 0.409597257926\n",
      "top 1000; for the test set\n",
      "precision: 0.864, recall: 0.740359897172\n"
     ]
    }
   ],
   "source": [
    "ran = [10, 500, 1000]\n",
    "precisions_test, recalls_test = performance(theta, X_test, y_test, ran)\n",
    "for ind in range(len(ran)):\n",
    "    print(\"top \" + str(ran[ind]) + \"; for the test set\")\n",
    "    print(\"precision: \" + str(precisions_test[ind]) + \", recall: \" + str(recalls_test[ind]))"
   ]
  },
  {
   "cell_type": "markdown",
   "metadata": {},
   "source": [
    "# Problem 4."
   ]
  },
  {
   "cell_type": "code",
   "execution_count": 12,
   "metadata": {
    "collapsed": false
   },
   "outputs": [
    {
     "name": "stderr",
     "output_type": "stream",
     "text": [
      "/Users/siwenyan/anaconda2/lib/python2.7/site-packages/matplotlib/font_manager.py:273: UserWarning: Matplotlib is building the font cache using fc-list. This may take a moment.\n",
      "  warnings.warn('Matplotlib is building the font cache using fc-list. This may take a moment.')\n"
     ]
    }
   ],
   "source": [
    "# 4.\n",
    "import matplotlib.pyplot as plt\n",
    "%matplotlib inline\n",
    "def plot(recalls, precisions, xlabel, ylabel, title):\n",
    "    plt.plot(recalls, precisions)\n",
    "    plt.xlabel(xlabel)\n",
    "    plt.ylabel(ylabel)\n",
    "    plt.title(title)\n",
    "    \n",
    "def performance(theta, X, y, r):\n",
    "    scores = [inner(theta,x) for x in X]\n",
    "    \n",
    "    res = sorted(zip(scores, y), key=lambda x: -x[0])\n",
    "    precisions = []\n",
    "    recalls = []\n",
    "    nt = numTrue(y)\n",
    "    for ra in r:\n",
    "        precisions.append(precision(res[:ra]))\n",
    "        recalls.append(recall(res[:ra], nt))\n",
    "    \n",
    "    return precisions, recalls"
   ]
  },
  {
   "cell_type": "code",
   "execution_count": 13,
   "metadata": {
    "collapsed": false
   },
   "outputs": [],
   "source": [
    "ran = range(1, len(y_test) + 1)\n",
    "precisions_test, recalls_test = performance(theta, X_test, y_test, ran)"
   ]
  },
  {
   "cell_type": "code",
   "execution_count": 14,
   "metadata": {
    "collapsed": false
   },
   "outputs": [
    {
     "data": {
      "image/png": "[encoded data removed]",
      "text/plain": [
       "<matplotlib.figure.Figure at 0x1154dd850>"
      ]
     },
     "metadata": {},
     "output_type": "display_data"
    }
   ],
   "source": [
    "plot(recalls_test, precisions_test, \"recalls\", \"precisions\", \"precision vs. recall\")"
   ]
  },
  {
   "cell_type": "markdown",
   "metadata": {},
   "source": [
    "# Problem 5."
   ]
  },
  {
   "cell_type": "code",
   "execution_count": 15,
   "metadata": {
    "collapsed": false
   },
   "outputs": [],
   "source": [
    "# 5.\n",
    "def sumOfSquares(X, X_bar):\n",
    "    X = numpy.array(X)[:,1:]\n",
    "    X_mean = mean(X)\n",
    "    return numpy.sum((X - X_mean)**2)\n",
    "\n",
    "def mean(X):\n",
    "    return numpy.sum(X, 0) / len(X)"
   ]
  },
  {
   "cell_type": "code",
   "execution_count": 16,
   "metadata": {
    "collapsed": false
   },
   "outputs": [
    {
     "name": "stdout",
     "output_type": "stream",
     "text": [
      "The reconstruction error: train: 3675818.61688\n"
     ]
    }
   ],
   "source": [
    "X_bar = mean(X_train)\n",
    "sos_train = sumOfSquares(X_train, X_bar)\n",
    "print(\"The reconstruction error: \" + \"train: \" + str(sos_train))"
   ]
  },
  {
   "cell_type": "markdown",
   "metadata": {},
   "source": [
    "# Problem 6."
   ]
  },
  {
   "cell_type": "code",
   "execution_count": 17,
   "metadata": {
    "collapsed": true
   },
   "outputs": [],
   "source": [
    "# 6.\n",
    "from sklearn.decomposition import PCA"
   ]
  },
  {
   "cell_type": "code",
   "execution_count": 18,
   "metadata": {
    "collapsed": false
   },
   "outputs": [
    {
     "name": "stdout",
     "output_type": "stream",
     "text": [
      "[[  3.23636346e-04  -1.42201752e-04  -3.17030713e-04  -5.36390435e-02\n",
      "   -9.30284526e-05  -2.54030965e-01  -9.65655009e-01  -3.19990241e-05\n",
      "    2.95831396e-04  -3.84043646e-04   1.00526693e-02]\n",
      " [ -7.57985623e-03  -1.66366340e-03   1.04742899e-03   5.21677266e-02\n",
      "    4.49425600e-05   9.65020304e-01  -2.56793964e-01   7.90089050e-06\n",
      "    5.24900596e-04  -1.09699394e-03  -2.89827657e-03]\n",
      " [  1.82124420e-02   2.54680710e-03   3.31838657e-03   9.93221259e-01\n",
      "   -1.51888372e-04  -6.42297821e-02  -3.91682592e-02   4.30929482e-04\n",
      "   -6.93199060e-03  -2.85216045e-03  -8.62920933e-02]\n",
      " [ -1.56811999e-01  -3.28220652e-03  -1.66866136e-02  -8.28549640e-02\n",
      "    6.91822288e-03  -1.13029682e-03  -5.39110108e-03   9.49080503e-04\n",
      "   -2.68027305e-03  -1.30498102e-03  -9.83955205e-01]\n",
      " [ -9.81360642e-01   1.45890108e-02  -5.92643662e-02   3.17546064e-02\n",
      "   -5.07483182e-04  -8.43759364e-03   1.77578042e-03  -6.03725221e-04\n",
      "    9.05011239e-02   9.35630845e-03   1.54417839e-01]\n",
      " [ -7.76578401e-02   2.37665885e-01  -2.23406619e-02  -5.04113878e-03\n",
      "    1.43564098e-02   2.14210997e-04   2.22913844e-04  -3.36617054e-03\n",
      "   -8.77254205e-01  -4.08570175e-01   1.54145486e-02]\n",
      " [ -7.36289612e-02  -2.61563804e-01   9.43067566e-01  -2.14514264e-03\n",
      "    1.19104298e-02  -1.68808905e-03   1.42294158e-04  -1.17203197e-04\n",
      "   -1.45895558e-01   1.23868963e-01  -2.88797236e-03]\n",
      " [  1.37617196e-02  -2.11129619e-01   1.16514121e-01  -5.30670319e-04\n",
      "   -1.05181628e-02  -1.36446528e-03   8.21179429e-04  -3.09221855e-04\n",
      "    3.58358431e-01  -9.01728510e-01  -3.27758247e-03]\n",
      " [ -1.74575775e-02  -9.10890084e-01  -3.04081497e-01   2.89763923e-03\n",
      "   -2.34615054e-02  -1.17406025e-03   3.85957239e-04  -1.23176271e-03\n",
      "   -2.68927937e-01   6.70756658e-02   1.12101920e-02]\n",
      " [  2.31513441e-03  -2.38717789e-02  -1.67445603e-02   8.92206499e-04\n",
      "    9.99462734e-01  -9.81109101e-05  -3.32812875e-05   4.14235255e-03\n",
      "    1.18483756e-02  -3.51543098e-03   6.92344110e-03]\n",
      " [  7.48312160e-04   3.08204153e-04   2.55232500e-04   3.49846801e-04\n",
      "    4.12943179e-03  -6.96565372e-06   4.16951216e-06  -9.99984215e-01\n",
      "    3.17948604e-03   1.53436134e-03  -1.10029138e-03]]\n"
     ]
    }
   ],
   "source": [
    "pca = PCA(n_components=11)\n",
    "pca.fit([l[1:] for l in X_train])\n",
    "print pca.components_"
   ]
  },
  {
   "cell_type": "markdown",
   "metadata": {},
   "source": [
    "# Problem 7."
   ]
  },
  {
   "cell_type": "code",
   "execution_count": 19,
   "metadata": {
    "collapsed": false
   },
   "outputs": [],
   "source": [
    "# problem 7.\n",
    "pca_train = pca.transform([l[1:] for l in X_train])"
   ]
  },
  {
   "cell_type": "code",
   "execution_count": 20,
   "metadata": {
    "collapsed": false
   },
   "outputs": [
    {
     "name": "stdout",
     "output_type": "stream",
     "text": [
      "Compress the data using just four PCA dimensions.\n",
      "The reconstruction error on training set: 1345.4755741\n"
     ]
    }
   ],
   "source": [
    "print(\"Compress the data using just four PCA dimensions.\")\n",
    "print(\"The reconstruction error on training set: \" + str(numpy.sum(pca_train[:, 4:]**2)))"
   ]
  },
  {
   "cell_type": "markdown",
   "metadata": {},
   "source": [
    "# Problem 8."
   ]
  },
  {
   "cell_type": "code",
   "execution_count": 21,
   "metadata": {
    "collapsed": false
   },
   "outputs": [],
   "source": [
    "# problem 8.\n",
    "def performance(theta):\n",
    "    scores_train = [inner(theta,x) for x in X_train]\n",
    "    scores_test = [inner(theta,x) for x in X_test]\n",
    "\n",
    "    return mse(numpy.array(scores_train), numpy.array(y_train)), mse(numpy.array(scores_test), numpy.array(y_test))\n",
    "\n",
    "def mse(scores, mask):\n",
    "    return numpy.sum((scores - mask)**2) / numpy.max(scores.shape)\n",
    "\n",
    "def plot(train, test, trainLabel, testLabel, ylabel, title):\n",
    "    trainLine, = plt.plot([i for i in range(1, len(train) + 1)], train)\n",
    "    testLine, = plt.plot([i for i in range(1, len(test) + 1)], test)\n",
    "    plt.xlabel('number of PCA dimensions')\n",
    "    plt.ylabel(ylabel)\n",
    "    plt.title(title)\n",
    "    plt.legend([trainLine, testLine], [trainLabel, testLabel])\n",
    "    plt.grid(True)"
   ]
  },
  {
   "cell_type": "code",
   "execution_count": 22,
   "metadata": {
    "collapsed": true
   },
   "outputs": [],
   "source": [
    "y = [l[-1] for l in lines]\n",
    "X_train = X[:int(len(X)/3)]\n",
    "y_train = y[:int(len(y)/3)]\n",
    "X_test = X[int(2*len(X)/3):]\n",
    "y_test = y[int(2*len(X)/3):]\n",
    "X_train_cp = X_train\n",
    "X_test_cp = X_test"
   ]
  },
  {
   "cell_type": "code",
   "execution_count": 23,
   "metadata": {
    "collapsed": false
   },
   "outputs": [],
   "source": [
    "mse_train = []\n",
    "mse_test = []\n",
    "for numDim in range(1, 12):\n",
    "    pca = PCA(n_components=numDim)\n",
    "    pca.fit([l[1:] for l in X_train_cp])\n",
    "    X_train = pca.transform([l[1:] for l in X_train_cp])\n",
    "    X_test = pca.transform([l[1:] for l in X_test_cp])\n",
    "    X_train = numpy.hstack((numpy.ones((int(len(X)/3), 1)), X_train))\n",
    "    X_test = numpy.hstack((numpy.ones((len(X) - int(2*len(X)/3), 1)), X_test))\n",
    "    theta,residuals,rank,s = numpy.linalg.lstsq(X_train, y_train)\n",
    "    tmp1, tmp2 = performance(theta)\n",
    "    mse_train.append(tmp1)\n",
    "    mse_test.append(tmp2)"
   ]
  },
  {
   "cell_type": "code",
   "execution_count": 24,
   "metadata": {
    "collapsed": false
   },
   "outputs": [
    {
     "data": {
      "image/png": "[encoded data removed]",
      "text/plain": [
       "<matplotlib.figure.Figure at 0x119ad47d0>"
      ]
     },
     "metadata": {},
     "output_type": "display_data"
    }
   ],
   "source": [
    "plot(mse_train, mse_test, \"train\", \"test\", \"MSE\", \"MSE vs. number of PCA dimensions\")"
   ]
  },
  {
   "cell_type": "code",
   "execution_count": null,
   "metadata": {
    "collapsed": true
   },
   "outputs": [],
   "source": []
  }
 ],
 "metadata": {
  "anaconda-cloud": {},
  "kernelspec": {
   "display_name": "Python 2",
   "language": "python",
   "name": "python2"
  },
  "language_info": {
   "codemirror_mode": {
    "name": "ipython",
    "version": 2
   },
   "file_extension": ".py",
   "mimetype": "text/x-python",
   "name": "python",
   "nbconvert_exporter": "python",
   "pygments_lexer": "ipython2",
   "version": "2.7.10"
  }
 },
 "nbformat": 4,
 "nbformat_minor": 1
}
