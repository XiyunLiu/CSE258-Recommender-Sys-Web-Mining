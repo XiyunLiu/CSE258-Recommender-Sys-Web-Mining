{
 "cells": [
  {
   "cell_type": "markdown",
   "metadata": {},
   "source": [
    "# CSE258 Assignment 1"
   ]
  },
  {
   "cell_type": "markdown",
   "metadata": {},
   "source": [
    "### nHelpful"
   ]
  },
  {
   "cell_type": "code",
   "execution_count": 3,
   "metadata": {
    "collapsed": true
   },
   "outputs": [],
   "source": [
    "import gzip\n",
    "import numpy as np\n",
    "from sklearn.metrics import mean_absolute_error\n",
    "from sklearn.metrics import mean_squared_error\n",
    "from math import sqrt\n",
    "from collections import defaultdict"
   ]
  },
  {
   "cell_type": "code",
   "execution_count": 4,
   "metadata": {
    "collapsed": true
   },
   "outputs": [],
   "source": [
    "def parse(path):\n",
    "    g = gzip.open(path, 'rb')\n",
    "    for l in g:\n",
    "        yield eval(l)\n",
    "\n",
    "def readJson(path):\n",
    "    i = 0\n",
    "    df = {}\n",
    "    for d in parse(path):\n",
    "        df[i] = d\n",
    "        i += 1\n",
    "    return df\n",
    "\n",
    "df = readJson('assignment1/train.json.gz')"
   ]
  },
  {
   "cell_type": "code",
   "execution_count": 47,
   "metadata": {
    "collapsed": false
   },
   "outputs": [],
   "source": [
    "Data_total = [df[x] for x in range(0,len(df))]\n",
    "Data_train = [df[x] for x in range(0,len(df)/2)]\n",
    "Data_valid = [df[x] for x in range(len(df)/2,len(df))]"
   ]
  },
  {
   "cell_type": "code",
   "execution_count": 48,
   "metadata": {
    "collapsed": false
   },
   "outputs": [],
   "source": [
    "df2 = readJson('assignment1/test_Helpful.json.gz')\n",
    "Data_test = [df2[x] for x in range(0,len(df2))]"
   ]
  },
  {
   "cell_type": "code",
   "execution_count": 234,
   "metadata": {
    "collapsed": false
   },
   "outputs": [],
   "source": [
    "# item average rating\n",
    "rateNum = {}\n",
    "rateAvg = {}\n",
    "globalAvg = sum([x['rating'] for x in Data_total]) * 1.0 / len([x['rating'] for x in Data_total])\n",
    "for x in Data_total:\n",
    "    if x['itemID'] in rateAvg:\n",
    "        rateAvg[x['itemID']] = (rateAvg[x['itemID']] * rateNum[x['itemID']] + x['rating']) / (rateNum[x['itemID']] + 1)\n",
    "        rateNum[x['itemID']] += 1\n",
    "    else:\n",
    "        rateNum[x['itemID']] = 1\n",
    "        rateAvg[x['itemID']] = x['rating']"
   ]
  },
  {
   "cell_type": "code",
   "execution_count": 235,
   "metadata": {
    "collapsed": true
   },
   "outputs": [],
   "source": [
    "# number of items user reviewed\n",
    "reviewNum = defaultdict(int)\n",
    "for x in Data_total:\n",
    "    reviewNum[x['reviewerID']] += 1"
   ]
  },
  {
   "cell_type": "code",
   "execution_count": 236,
   "metadata": {
    "collapsed": true
   },
   "outputs": [],
   "source": [
    "# variance of item rating\n",
    "itemRateList = defaultdict(list)\n",
    "itemRateVar = defaultdict(float)\n",
    "for x in Data_total:\n",
    "    itemRateList[x['reviewerID']].append(x['rating'])\n",
    "for x in itemRateList:\n",
    "    itemRateVar[x] = np.std(itemRateList[x])"
   ]
  },
  {
   "cell_type": "code",
   "execution_count": 252,
   "metadata": {
    "collapsed": false
   },
   "outputs": [],
   "source": [
    "# item total outOf\n",
    "itemOutOf = defaultdict(int)\n",
    "for x in Data_total:\n",
    "    itemOutOf[x['itemID']] += x['helpful']['outOf']"
   ]
  },
  {
   "cell_type": "code",
   "execution_count": 237,
   "metadata": {
    "collapsed": true
   },
   "outputs": [],
   "source": [
    "categoryIndex = ['Men', 'Women', 'Boys', 'Girls', 'Baby']\n",
    "\n",
    "def encodeCategory(data, cat):\n",
    "    for category in data['categories']:\n",
    "        for subcategory in category:\n",
    "            if subcategory == categoryIndex[cat]:\n",
    "                return 1\n",
    "    return 0"
   ]
  },
  {
   "cell_type": "code",
   "execution_count": 256,
   "metadata": {
    "collapsed": false
   },
   "outputs": [],
   "source": [
    "# nHelpful feature extraction\n",
    "def featHelpful(data):\n",
    "    votes = data['helpful']['outOf']\n",
    "    \n",
    "    feat = [1]\n",
    "#     feat.append(data['rating'])\n",
    "    feat.append(data['rating'] - globalAvg)\n",
    "    feat.append(len(data['reviewText'].split( )) / data['rating'])\n",
    "    \n",
    "    feat.append(reviewNum[data['reviewerID']])\n",
    "    feat.append(itemRateVar[data['itemID']])\n",
    "    \n",
    "    if data['itemID'] in rateAvg:\n",
    "        feat.append(abs(data['rating'] - rateAvg[data['itemID']]))\n",
    "    else:\n",
    "        feat.append(0)\n",
    "        \n",
    "    feat.append('but' in data['reviewText'] or 'however' in data['reviewText'])\n",
    "#     feat.append('!' in data['reviewText'])\n",
    "#     feat.append('?' in data['reviewText'])\n",
    "    feat.append(data['reviewText'].count('?') * 1.0 / len(data['reviewText'].split('.')))\n",
    "    feat.append(data['reviewText'].count('!') * 1.0 / len(data['reviewText'].split('.')))\n",
    "    \n",
    "    feat.append(encodeCategory(data, 0))\n",
    "    feat.append(encodeCategory(data, 1))\n",
    "    feat.append(encodeCategory(data, 2))\n",
    "    feat.append(encodeCategory(data, 3))\n",
    "    feat.append(encodeCategory(data, 4))\n",
    "\n",
    "    return feat"
   ]
  },
  {
   "cell_type": "code",
   "execution_count": 257,
   "metadata": {
    "collapsed": false
   },
   "outputs": [
    {
     "name": "stdout",
     "output_type": "stream",
     "text": [
      "0.17435 [  7.48707188e-01   2.08980693e-02   3.32208805e-04  -1.97771402e-04\n",
      "  -2.22044605e-16  -3.74975844e-02   9.24935246e-03  -2.79164671e-01\n",
      "  -4.89857964e-03   1.52225458e-01   2.01505077e-01   2.02914875e-01\n",
      "   1.88398511e-01   2.41325586e-01]\n"
     ]
    }
   ],
   "source": [
    "x1_train = [featHelpful(x) for x in Data_train if x['helpful']['outOf'] > 39]\n",
    "y1 = [x['helpful']['nHelpful'] * 1.0 / x['helpful']['outOf'] for x in Data_train if x['helpful']['outOf'] > 39]\n",
    "result1 = np.linalg.lstsq(x1_train, y1)\n",
    "theta1 = result1[0]\n",
    "\n",
    "y_valid = [x['helpful']['nHelpful'] for x in Data_valid]\n",
    "pred_valid = []\n",
    "for x in Data_valid:\n",
    "    x_valid = featHelpful(x)\n",
    "    pred_valid.append(np.round(min(np.dot(np.array(x_valid), theta1),1.0) * x['helpful']['outOf']))\n",
    "print mean_absolute_error(pred_valid, y_valid), theta1"
   ]
  },
  {
   "cell_type": "code",
   "execution_count": 255,
   "metadata": {
    "collapsed": false
   },
   "outputs": [],
   "source": [
    "x1_test = [featHelpful(x) for x in Data_test]\n",
    "pred_rate1 = np.dot(np.array(x1_test), theta1)\n",
    "\n",
    "index = 0\n",
    "predictions = open(\"assignment1/predictions_Helpful.txt\", 'w')\n",
    "for l in open(\"assignment1/pairs_Helpful.txt\"):\n",
    "    if l.startswith(\"userID\"):\n",
    "        #header\n",
    "        predictions.write(l)\n",
    "        continue\n",
    "    u,i,outOf = l.strip().split('-')\n",
    "    outOf = int(outOf)\n",
    "    predictions.write(u + '-' + i + '-' + str(outOf) + ',' + str(np.round(outOf * min(pred_rate1[index],1.0))) + '\\n')\n",
    "    index += 1\n",
    "\n",
    "predictions.close()"
   ]
  },
  {
   "cell_type": "code",
   "execution_count": null,
   "metadata": {
    "collapsed": true
   },
   "outputs": [],
   "source": []
  }
 ],
 "metadata": {
  "anaconda-cloud": {},
  "kernelspec": {
   "display_name": "Python 2",
   "language": "python",
   "name": "python2"
  },
  "language_info": {
   "codemirror_mode": {
    "name": "ipython",
    "version": 2
   },
   "file_extension": ".py",
   "mimetype": "text/x-python",
   "name": "python",
   "nbconvert_exporter": "python",
   "pygments_lexer": "ipython2",
   "version": "2.7.13"
  }
 },
 "nbformat": 4,
 "nbformat_minor": 1
}
