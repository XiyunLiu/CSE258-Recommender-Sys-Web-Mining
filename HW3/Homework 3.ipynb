{
 "cells": [
  {
   "cell_type": "code",
   "execution_count": 3,
   "metadata": {
    "collapsed": true
   },
   "outputs": [],
   "source": [
    "%matplotlib inline"
   ]
  },
  {
   "cell_type": "code",
   "execution_count": 4,
   "metadata": {
    "collapsed": true
   },
   "outputs": [],
   "source": [
    "import matplotlib.pylab as plt"
   ]
  },
  {
   "cell_type": "code",
   "execution_count": 5,
   "metadata": {
    "collapsed": true
   },
   "outputs": [],
   "source": [
    "import json\n",
    "import numpy as np\n",
    "import random\n",
    "from sklearn.metrics import mean_absolute_error, mean_squared_error\n",
    "from collections import defaultdict"
   ]
  },
  {
   "cell_type": "code",
   "execution_count": 6,
   "metadata": {
    "collapsed": false
   },
   "outputs": [],
   "source": [
    "import gzip\n",
    "\n",
    "def parse(path):\n",
    "    g = gzip.open(path, 'rb')\n",
    "    for l in g:\n",
    "        yield eval(l)\n",
    "\n",
    "def readJson(path):\n",
    "    i = 0\n",
    "    df = {}\n",
    "    for d in parse(path):\n",
    "        df[i] = d\n",
    "        i += 1\n",
    "    return df\n",
    "\n",
    "df = readJson('assignment1/train.json.gz')"
   ]
  },
  {
   "cell_type": "code",
   "execution_count": 7,
   "metadata": {
    "collapsed": false
   },
   "outputs": [],
   "source": [
    "trainingData = [df[x] for x in range(0,100000)]\n",
    "validationData = [df[x] for x in range(100000,200000)]"
   ]
  },
  {
   "cell_type": "code",
   "execution_count": 8,
   "metadata": {
    "collapsed": false,
    "scrolled": true
   },
   "outputs": [
    {
     "data": {
      "text/plain": [
       "{'categories': [['Clothing, Shoes & Jewelry', 'Women'],\n",
       "  ['Clothing, Shoes & Jewelry',\n",
       "   'Novelty, Costumes & More',\n",
       "   'Novelty',\n",
       "   'Clothing',\n",
       "   'Women',\n",
       "   'Leggings']],\n",
       " 'categoryID': 0,\n",
       " 'helpful': {'nHelpful': 0, 'outOf': 0},\n",
       " 'itemID': 'I655355328',\n",
       " 'rating': 3.0,\n",
       " 'reviewHash': 'R115160670',\n",
       " 'reviewText': 'These are cute, but they are a little small.  When I put them on, my legs stretch the fabric making the black fade out.',\n",
       " 'reviewTime': '05 20, 2014',\n",
       " 'reviewerID': 'U745881038',\n",
       " 'summary': 'Cute',\n",
       " 'unixReviewTime': 1400544000}"
      ]
     },
     "execution_count": 8,
     "metadata": {},
     "output_type": "execute_result"
    }
   ],
   "source": [
    "trainingData[0]"
   ]
  },
  {
   "cell_type": "markdown",
   "metadata": {},
   "source": [
    "# Problem 1\n",
    "\n",
    "$\\alpha = 0.78373736423168394$"
   ]
  },
  {
   "cell_type": "code",
   "execution_count": 9,
   "metadata": {
    "collapsed": false
   },
   "outputs": [],
   "source": [
    "train_nhelpful = np.array([data['helpful']['nHelpful'] for data in trainingData])\n",
    "train_outOf = np.array([data['helpful']['outOf'] for data in trainingData])\n",
    "filterZero = np.array(filter(lambda x: x[1] != 0, zip(train_nhelpful, train_outOf)))"
   ]
  },
  {
   "cell_type": "code",
   "execution_count": 10,
   "metadata": {
    "collapsed": false
   },
   "outputs": [
    {
     "data": {
      "text/plain": [
       "(0.78373736423168394, 0.2590231482021545)"
      ]
     },
     "execution_count": 10,
     "metadata": {},
     "output_type": "execute_result"
    }
   ],
   "source": [
    "alpha = np.mean(filterZero[:,0]*1.0 / filterZero[:,1])\n",
    "MAE = mean_absolute_error(alpha * train_outOf, train_nhelpful)\n",
    "alpha, MAE"
   ]
  },
  {
   "cell_type": "markdown",
   "metadata": {},
   "source": [
    "# Problem 2\n",
    "\n",
    "Tha validation MAE = 0.25870215742224595"
   ]
  },
  {
   "cell_type": "code",
   "execution_count": 11,
   "metadata": {
    "collapsed": false
   },
   "outputs": [
    {
     "data": {
      "text/plain": [
       "0.25870215742224595"
      ]
     },
     "execution_count": 11,
     "metadata": {},
     "output_type": "execute_result"
    }
   ],
   "source": [
    "validation_nhelpful = np.array([data['helpful']['nHelpful'] for data in validationData])\n",
    "validation_outOf = np.array([data['helpful']['outOf'] for data in validationData])\n",
    "MAE = mean_absolute_error(alpha * validation_outOf, validation_nhelpful)\n",
    "MAE"
   ]
  },
  {
   "cell_type": "markdown",
   "metadata": {},
   "source": [
    "# Problem 3\n",
    "The validation MAE is 0.24024580870415566. The fitted parameters are [  5.62218966e-01,   2.11835412e-04,   5.07029148e-02]"
   ]
  },
  {
   "cell_type": "code",
   "execution_count": 12,
   "metadata": {
    "collapsed": false
   },
   "outputs": [],
   "source": [
    "threeFeatureTraining = np.vstack([np.ones(len(train_nhelpful)), \\\n",
    "                                  [len(data['reviewText'].split()) for data in trainingData],\\\n",
    "                                  [data['rating'] for data in trainingData]]).T\n",
    "filterZero_3 = filter(lambda x: x[2] != 0, zip(threeFeatureTraining, train_nhelpful, train_outOf))\n",
    "X_train = np.array([x[0] for x in filterZero_3])\n",
    "y_train = np.array([x[1]*1.0/x[2] for x in filterZero_3])\n",
    "theta, residuals, rank, s = np.linalg.lstsq(X_train, y_train)"
   ]
  },
  {
   "cell_type": "code",
   "execution_count": 13,
   "metadata": {
    "collapsed": false
   },
   "outputs": [
    {
     "data": {
      "text/plain": [
       "0.24024580870415566"
      ]
     },
     "execution_count": 13,
     "metadata": {},
     "output_type": "execute_result"
    }
   ],
   "source": [
    "threeFeatureValidation = np.vstack([np.ones(len(validation_nhelpful)),\\\n",
    "                                    [len(data['reviewText'].split()) for data in validationData],\\\n",
    "                                    [data['rating'] for data in validationData]]).T\n",
    "X_validation = threeFeatureValidation\n",
    "y_validation = validation_nhelpful\n",
    "mean_absolute_error(np.dot(X_validation, theta)* validation_outOf, y_validation)\n"
   ]
  },
  {
   "cell_type": "code",
   "execution_count": 14,
   "metadata": {
    "collapsed": false
   },
   "outputs": [
    {
     "data": {
      "text/plain": [
       "array([  5.62218966e-01,   2.11835412e-04,   5.07029148e-02])"
      ]
     },
     "execution_count": 14,
     "metadata": {},
     "output_type": "execute_result"
    }
   ],
   "source": [
    "theta"
   ]
  },
  {
   "cell_type": "markdown",
   "metadata": {},
   "source": [
    "# Problem 4\n",
    "\n",
    "liuxiyun"
   ]
  },
  {
   "cell_type": "code",
   "execution_count": 15,
   "metadata": {
    "collapsed": true
   },
   "outputs": [],
   "source": [
    "reviewDataForTest = readJson('assignment1/test_Helpful.json.gz')\n",
    "predictions = open(\"assignment1/predictions_Helpful.txt\", 'w')\n",
    "i = 0\n",
    "for l in open(\"assignment1/pairs_Helpful.txt\"):\n",
    "    if l.startswith(\"userID\"):\n",
    "    #header\n",
    "        predictions.write(l)\n",
    "        continue\n",
    "    user ,item,outOf = l.strip().split('-')\n",
    "    outOf = int(outOf)\n",
    "    field = np.array([1, len(reviewDataForTest[i]['reviewText'].split()), reviewDataForTest[i]['rating']])\n",
    "    predictHelpfulRate = np.dot(field,theta)\n",
    "    predictions.write(user + '-' + item + '-' + str(outOf) + ',' + str(outOf*predictHelpfulRate) + '\\n')\n",
    "    i += 1\n",
    "    \n",
    "predictions.close()"
   ]
  },
  {
   "cell_type": "markdown",
   "metadata": {},
   "source": [
    "# Problem 5\n",
    "Alpha is 4.23198, validation MSE = 1.2264713283999997"
   ]
  },
  {
   "cell_type": "code",
   "execution_count": 16,
   "metadata": {
    "collapsed": false
   },
   "outputs": [
    {
     "data": {
      "text/plain": [
       "4.23198"
      ]
     },
     "execution_count": 16,
     "metadata": {},
     "output_type": "execute_result"
    }
   ],
   "source": [
    "alpha = sum([data['rating'] for data in trainingData])*1.0/len(trainingData)\n",
    "alpha"
   ]
  },
  {
   "cell_type": "code",
   "execution_count": 17,
   "metadata": {
    "collapsed": false
   },
   "outputs": [
    {
     "data": {
      "text/plain": [
       "1.2276052795999999"
      ]
     },
     "execution_count": 17,
     "metadata": {},
     "output_type": "execute_result"
    }
   ],
   "source": [
    "mean_squared_error(np.array([data['rating']*1.0 for data in trainingData]), [alpha]*len(trainingData))"
   ]
  },
  {
   "cell_type": "code",
   "execution_count": 18,
   "metadata": {
    "collapsed": false
   },
   "outputs": [
    {
     "data": {
      "text/plain": [
       "1.2264713283999997"
      ]
     },
     "execution_count": 18,
     "metadata": {},
     "output_type": "execute_result"
    }
   ],
   "source": [
    "mean_squared_error(np.array([data['rating']*1.0 for data in validationData]), [alpha]*len(validationData))"
   ]
  },
  {
   "cell_type": "markdown",
   "metadata": {},
   "source": [
    "# Problem 6\n",
    "\n",
    "The value of $\\alpha$, $\\beta_u$, $\\beta_i$ are initialized randomly between 0 to 1. I found the result is different if I initilize all of them as 1. The below result is generate by using randomly inilization. \n",
    "\n",
    "Validation MSE = 1.28152763715"
   ]
  },
  {
   "cell_type": "code",
   "execution_count": 21,
   "metadata": {
    "collapsed": false
   },
   "outputs": [],
   "source": [
    "userIndex = {}\n",
    "users = []\n",
    "userToItem = defaultdict(list)\n",
    "itemIndex = {}\n",
    "items = []\n",
    "itemToUser = defaultdict(list)\n",
    "i,j = 0,0\n",
    "for data in trainingData:\n",
    "    userToItem[data['reviewerID']].append(data['itemID'])\n",
    "    itemToUser[data['itemID']].append(data['reviewerID'])\n",
    "    if data['reviewerID'] not in userIndex:\n",
    "        userIndex[data['reviewerID']] = i\n",
    "        users.append(data['reviewerID'])\n",
    "        i += 1\n",
    "    if data['itemID'] not in itemIndex:\n",
    "        itemIndex[data['itemID']] = j\n",
    "        items.append(data['itemID'])\n",
    "        j += 1"
   ]
  },
  {
   "cell_type": "code",
   "execution_count": 22,
   "metadata": {
    "collapsed": false
   },
   "outputs": [],
   "source": [
    "Rui = np.zeros((len(users), len(items)))\n",
    "for data in trainingData:\n",
    "    Rui[userIndex[data['reviewerID']]][itemIndex[data['itemID']]] = data['rating']"
   ]
  },
  {
   "cell_type": "code",
   "execution_count": 49,
   "metadata": {
    "collapsed": false
   },
   "outputs": [],
   "source": [
    "def gradientDescent(regularization = 1):\n",
    "    alpha = random.random()\n",
    "    np.random.seed(0)\n",
    "    beta_u = np.random.rand(len(userIndex.keys()))\n",
    "    beta_i = np.random.rand(len(itemIndex.keys()))\n",
    "#     beta_u = np.ones(len(userIndex.keys()))\n",
    "#     beta_i = np.ones(len(itemIndex.keys()))\n",
    "    maxIter = 1e5\n",
    "    numIter = 0\n",
    "    alpha_path = []\n",
    "    beta_u_path = []\n",
    "    beta_i_path = []\n",
    "    trainingMSE_path = []\n",
    "    validationMSE_path = []\n",
    "    while numIter < maxIter:\n",
    "        alpha = np.sum([data['rating'] - beta_u[userIndex[data['reviewerID']]] - \\\n",
    "                        beta_i[itemIndex[data['itemID']]] for data in trainingData]) / len(trainingData)\n",
    "        beta_u = np.array([np.sum([Rui[userIndex[user]][itemIndex[item]] - alpha - \\\n",
    "                                   beta_i[itemIndex[item]] for item in userToItem[user]])\n",
    "                  /(regularization + len(userToItem[user])) for user in users])\n",
    "        beta_i = np.array([np.sum([Rui[userIndex[user]][itemIndex[item]] - alpha - \\\n",
    "                                   beta_u[userIndex[user]] for user in itemToUser[item]])\n",
    "                  /(regularization + len(itemToUser[item])) for item in items])\n",
    "\n",
    "        trainingMSE = mean_squared_error([alpha + beta_u[userIndex[data['reviewerID']]] + \\\n",
    "                        beta_i[itemIndex[data['itemID']]] for data in trainingData], \\\n",
    "                                        [data['rating'] for data in trainingData])\n",
    "        # Calculate validation MSE\n",
    "        prediction = np.zeros(len(validationData)) + alpha\n",
    "        i = 0\n",
    "        for data in validationData:\n",
    "            if data['reviewerID'] in userIndex:\n",
    "                prediction[i] += beta_u[userIndex[data['reviewerID']]]\n",
    "            if data['itemID'] in itemIndex:\n",
    "                prediction[i] += beta_i[itemIndex[data['itemID']]]\n",
    "            i += 1\n",
    "        validationMSE = mean_squared_error(prediction, [data['rating'] for data in validationData])\n",
    "\n",
    "        numIter += 1 \n",
    "        trainingMSE_path.append(trainingMSE)\n",
    "        validationMSE_path.append(validationMSE)\n",
    "        alpha_path.append(alpha)\n",
    "        beta_u_path.append(beta_u)\n",
    "        beta_i_path.append(beta_i)\n",
    "        if len(validationMSE_path) >= 6 and validationMSE_path[-5] <= validationMSE_path[-4] <= \\\n",
    "            validationMSE_path[-3] <= validationMSE_path[-2] <= validationMSE_path[-1]:\n",
    "            print 'Iteration:', numIter, 'Training MSE =', trainingMSE_path[-5], \\\n",
    "                  ', Validation MSE =', validationMSE_path[-5]\n",
    "                \n",
    "            return alpha_path[-5], beta_u_path[-5], beta_i_path[-5], trainingMSE_path[-5], validationMSE_path[-5]\n",
    "\n",
    "    return alpha, beta_u, beta_i, trainingMSE, validationMSE"
   ]
  },
  {
   "cell_type": "code",
   "execution_count": 50,
   "metadata": {
    "collapsed": false
   },
   "outputs": [
    {
     "name": "stdout",
     "output_type": "stream",
     "text": [
      "Iteration: 34 Training MSE = 0.510476039068 , Validation MSE = 1.28152763715\n"
     ]
    }
   ],
   "source": [
    "alpha, beta_u, beta_i, trainingMSE, validationMSE = gradientDescent()"
   ]
  },
  {
   "cell_type": "markdown",
   "metadata": {},
   "source": [
    "# Problem 7\n",
    "\n",
    "The value of $\\alpha$, $\\beta_u$, $\\beta_i$ are initialized randomly between 0 to 1. I found the result is different if I initilize all of them as 1.\n",
    "\n",
    "When I initialize them using randomly inilization, the result is as following.\n",
    "\n",
    "\n",
    "The user: U816486110 has maximum beta_u: 1.51334345024\n",
    "\n",
    "The user: U052814411 has minimum beta_u: -2.51296019369\n",
    "\n",
    "The user: I480796558 has minimum beta_u: 1.25757978675\n",
    "\n",
    "The item: I071368828 has minimum beta_i: -2.36141470887\n",
    "\n",
    "When I initialize them as all 1, the result is as following.\n",
    "\n",
    "The user: U816486110 has maximum beta_u: 1.51332895507\n",
    "\n",
    "The user: U052814411 has minimum beta_u: -2.51298088476\n",
    "\n",
    "The item: I558325415 has maximum beta_i: 1.25670020753\n",
    "\n",
    "The item: I071368828 has minimum beta_i: -2.36214535665"
   ]
  },
  {
   "cell_type": "code",
   "execution_count": 51,
   "metadata": {
    "collapsed": false
   },
   "outputs": [
    {
     "name": "stdout",
     "output_type": "stream",
     "text": [
      "The user: U816486110 has maximum beta_u: 1.51334345024\n"
     ]
    }
   ],
   "source": [
    "print \"The user:\", users[np.argmax(beta_u)], 'has maximum beta_u:', np.max(beta_u)"
   ]
  },
  {
   "cell_type": "code",
   "execution_count": 52,
   "metadata": {
    "collapsed": false
   },
   "outputs": [
    {
     "name": "stdout",
     "output_type": "stream",
     "text": [
      "The user: U052814411 has minimum beta_u: -2.51296019369\n"
     ]
    }
   ],
   "source": [
    "print \"The user:\", users[np.argmin(beta_u)], 'has minimum beta_u:', np.min(beta_u)"
   ]
  },
  {
   "cell_type": "code",
   "execution_count": 53,
   "metadata": {
    "collapsed": false
   },
   "outputs": [
    {
     "name": "stdout",
     "output_type": "stream",
     "text": [
      "The item: I480796558 has maximum beta_i: 1.25757978675\n"
     ]
    }
   ],
   "source": [
    "print \"The item:\", items[np.argmax(beta_i)], 'has maximum beta_i:', np.max(beta_i)"
   ]
  },
  {
   "cell_type": "code",
   "execution_count": 54,
   "metadata": {
    "collapsed": false
   },
   "outputs": [
    {
     "name": "stdout",
     "output_type": "stream",
     "text": [
      "The item: I071368828 has minimum beta_i: -2.36141470887\n"
     ]
    }
   ],
   "source": [
    "print \"The item:\", items[np.argmin(beta_i)], 'has minimum beta_i:', np.min(beta_i)"
   ]
  },
  {
   "cell_type": "markdown",
   "metadata": {},
   "source": [
    "# Problem 8\n",
    "\n",
    "When Lambda = 7, the validation MSE is minimum, 1.13959783669"
   ]
  },
  {
   "cell_type": "code",
   "execution_count": 92,
   "metadata": {
    "collapsed": false
   },
   "outputs": [
    {
     "name": "stdout",
     "output_type": "stream",
     "text": [
      "lambda:  0.01\n",
      "Iteration: 6 Training MSE = 0.444817173674 , Validation MSE = 1.73362203405\n",
      "lambda:  0.1\n",
      "Iteration: 6 Training MSE = 0.447363513364 , Validation MSE = 1.63945530045\n",
      "lambda:  1\n",
      "Iteration: 34 Training MSE = 0.510476039068 , Validation MSE = 1.28152763715\n",
      "lambda:  2\n",
      "Iteration: 23 Training MSE = 0.59253990334 , Validation MSE = 1.19019987087\n",
      "lambda:  3\n",
      "Iteration: 19 Training MSE = 0.655379148685 , Validation MSE = 1.15934850958\n",
      "lambda:  4\n",
      "Iteration: 17 Training MSE = 0.705291054966 , Validation MSE = 1.14668375006\n",
      "lambda:  5\n",
      "Iteration: 15 Training MSE = 0.746141577503 , Validation MSE = 1.14140526813\n",
      "lambda:  6\n",
      "Iteration: 15 Training MSE = 0.780331727511 , Validation MSE = 1.13960946601\n",
      "lambda:  7\n",
      "Iteration: 14 Training MSE = 0.80947900874 , Validation MSE = 1.13959783669\n",
      "lambda:  8\n",
      "Iteration: 14 Training MSE = 0.834678489993 , Validation MSE = 1.14054326186\n",
      "lambda:  9\n",
      "Iteration: 13 Training MSE = 0.856730235325 , Validation MSE = 1.14200666588\n",
      "lambda:  10\n",
      "Iteration: 13 Training MSE = 0.876214761963 , Validation MSE = 1.14374543964\n",
      "lambda:  100\n",
      "Iteration: 19 Training MSE = 1.15976120757 , Validation MSE = 1.20329459617\n"
     ]
    }
   ],
   "source": [
    "regularizationPath = [0.01,0.1,1,2,3,4,5,6,7,8,9,10,100]\n",
    "trainingMSE_r_path = []\n",
    "validationMSE_r_path = []\n",
    "for regularization in regularizationPath:\n",
    "    print \"lambda: \",regularization\n",
    "    alpha, beta_u, beta_i,train_MSE,vali_MSE = gradientDescent(regularization)\n",
    "    trainingMSE_r_path.append(train_MSE)\n",
    "    validationMSE_r_path.append(vali_MSE)"
   ]
  },
  {
   "cell_type": "code",
   "execution_count": 119,
   "metadata": {
    "collapsed": false
   },
   "outputs": [
    {
     "data": {
      "text/plain": [
       "<matplotlib.text.Text at 0x3d6c1d250>"
      ]
     },
     "execution_count": 119,
     "metadata": {},
     "output_type": "execute_result"
    },
    {
     "data": {
      "image/png": "[encoded data removed]",
      "text/plain": [
       "<matplotlib.figure.Figure at 0x3d668ef10>"
      ]
     },
     "metadata": {},
     "output_type": "display_data"
    }
   ],
   "source": [
    "plt.plot(np.log10(regularizationPath),trainingMSE_r_path)    \n",
    "plt.plot(np.log10(regularizationPath),validationMSE_r_path)\n",
    "plt.legend(['train', 'validation'], loc='upper left')\n",
    "plt.xlabel('lambda')\n",
    "plt.ylabel('MSE')\n",
    "plt.xticks(np.log10(regularizationPath), regularizationPath)\n",
    "plt.grid()\n",
    "plt.title('MSE vs. lambda')"
   ]
  },
  {
   "cell_type": "code",
   "execution_count": 122,
   "metadata": {
    "collapsed": false
   },
   "outputs": [],
   "source": [
    "alpha, beta_u, beta_i, _,_ = gradientDescent(regularization=7)\n",
    "predictions = open(\"assignment1/predictions_Rating.txt\", 'w')\n",
    "for l in open(\"assignment1/pairs_Rating.txt\"):\n",
    "    if l.startswith(\"userID\"):\n",
    "        #header\n",
    "        predictions.write(l)\n",
    "        continue\n",
    "    u,i = l.strip().split('-')\n",
    "    this_beta_u, this_beta_i = 0,0\n",
    "    if u in userIndex:\n",
    "        this_beta_u = beta_u[userIndex[u]]\n",
    "    if i in itemIndex:\n",
    "        this_beta_i = beta_i[itemIndex[i]]\n",
    "        \n",
    "    predictions.write(u + '-' + i + ',' + str(alpha + this_beta_u + this_beta_i) + '\\n')\n",
    "\n",
    "predictions.close()"
   ]
  }
 ],
 "metadata": {
  "kernelspec": {
   "display_name": "Python 2",
   "language": "python",
   "name": "python2"
  },
  "language_info": {
   "codemirror_mode": {
    "name": "ipython",
    "version": 2
   },
   "file_extension": ".py",
   "mimetype": "text/x-python",
   "name": "python",
   "nbconvert_exporter": "python",
   "pygments_lexer": "ipython2",
   "version": "2.7.13"
  }
 },
 "nbformat": 4,
 "nbformat_minor": 0
}
