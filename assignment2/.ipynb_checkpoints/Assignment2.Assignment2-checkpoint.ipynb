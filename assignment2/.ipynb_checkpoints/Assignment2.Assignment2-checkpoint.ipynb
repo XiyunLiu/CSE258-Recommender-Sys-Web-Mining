{
 "cells": [
  {
   "cell_type": "code",
   "execution_count": 2,
   "metadata": {
    "collapsed": true
   },
   "outputs": [],
   "source": [
    "%matplotlib inline"
   ]
  },
  {
   "cell_type": "code",
   "execution_count": 3,
   "metadata": {
    "collapsed": false
   },
   "outputs": [],
   "source": [
    "import matplotlib.pyplot as plt\n",
    "import csv\n",
    "import numpy as np\n",
    "import math\n",
    "from sklearn import svm,  linear_model\n",
    "from sklearn.tree import DecisionTreeClassifier, DecisionTreeRegressor\n",
    "from sklearn.ensemble import RandomForestClassifier, RandomForestRegressor\n",
    "from sklearn.metrics import mean_absolute_error, mean_squared_error"
   ]
  },
  {
   "cell_type": "code",
   "execution_count": 4,
   "metadata": {
    "collapsed": false
   },
   "outputs": [
    {
     "name": "stdout",
     "output_type": "stream",
     "text": [
      "Attributes: ['age', 'job', 'marital', 'education', 'default', 'balance', 'housing', 'loan', 'contact', 'day', 'month', 'duration', 'campaign', 'pdays', 'previous', 'poutcome', 'y']\n",
      "Number of data 45211\n"
     ]
    }
   ],
   "source": [
    "# Read csv to list\n",
    "with open('bank-full.csv', 'rb') as csvfile:\n",
    "    reader = csv.reader(csvfile, delimiter=';')\n",
    "    content = []\n",
    "    for row in reader:\n",
    "        content.append(row)\n",
    "attributes = content[0]\n",
    "content = content[1:]\n",
    "print 'Attributes:', attributes\n",
    "print 'Number of data', len(content)"
   ]
  },
  {
   "cell_type": "code",
   "execution_count": 5,
   "metadata": {
    "collapsed": false,
    "scrolled": true
   },
   "outputs": [
    {
     "data": {
      "text/plain": [
       "5289"
      ]
     },
     "execution_count": 5,
     "metadata": {},
     "output_type": "execute_result"
    }
   ],
   "source": [
    "len([x for x in content if x[16] == 'yes' ])"
   ]
  },
  {
   "cell_type": "code",
   "execution_count": 6,
   "metadata": {
    "collapsed": false
   },
   "outputs": [],
   "source": [
    "# Encode data\n",
    "data = []\n",
    "for row in content:\n",
    "    thisData = {}\n",
    "    for i, att in enumerate(row):\n",
    "        if attributes[i] in set(['age','balance','day','duration','campaign','pdays','previous']):\n",
    "            thisData[attributes[i]] = int(att)\n",
    "        elif attributes[i] == 'month': # jan to dec\n",
    "             thisData[attributes[i]] = att\n",
    "        elif attributes[i] in ['default', 'housing', 'loan', 'y']: #['yes', 'no']\n",
    "            thisData[attributes[i]] = 1 if att == 'yes' else 0\n",
    "        elif attributes[i] == 'job': #['management', 'retired', 'self-employed', 'unknown', 'unemployed', 'housemaid', 'admin.', 'entrepreneur', 'services', 'student', 'technician', 'blue-collar']\n",
    "            thisData[attributes[i]] = att\n",
    "        elif attributes[i] == 'marital': #['single', 'married', 'divorced']\n",
    "            thisData[attributes[i]] = att\n",
    "        elif attributes[i] == 'education': #['unknown', 'primary', 'tertiary', 'secondary']\n",
    "            thisData[attributes[i]] = att \n",
    "        elif attributes[i] == 'contact':# ['unknown', 'telephone', 'cellular']\n",
    "            thisData[attributes[i]] = att\n",
    "        elif attributes[i] == 'poutcome': #['unknown', 'other', 'success', 'failure']\n",
    "            thisData[attributes[i]] = att\n",
    "        else:\n",
    "            print 'error'\n",
    "    data.append(thisData)"
   ]
  },
  {
   "cell_type": "code",
   "execution_count": 7,
   "metadata": {
    "collapsed": false
   },
   "outputs": [],
   "source": [
    "# Split data to 6:2:2\n",
    "np.random.seed(0)\n",
    "np.random.shuffle(data)\n",
    "trainingData = data[:int(len(data)*0.6)]\n",
    "validationData = data[int(len(data)*0.6):int(len(data)*0.8)]\n",
    "testData = data[int(len(data)*0.8):]"
   ]
  },
  {
   "cell_type": "code",
   "execution_count": 8,
   "metadata": {
    "collapsed": false
   },
   "outputs": [
    {
     "data": {
      "text/plain": [
       "0.11597729115977291"
      ]
     },
     "execution_count": 8,
     "metadata": {},
     "output_type": "execute_result"
    }
   ],
   "source": [
    "len([x for x in trainingData if x['y'] == 1 ]) * 1. / len(trainingData)"
   ]
  },
  {
   "cell_type": "code",
   "execution_count": 9,
   "metadata": {
    "collapsed": false
   },
   "outputs": [
    {
     "data": {
      "text/plain": [
       "5289"
      ]
     },
     "execution_count": 9,
     "metadata": {},
     "output_type": "execute_result"
    }
   ],
   "source": [
    "len([x for x in content if x[16] == 'yes' ])"
   ]
  },
  {
   "cell_type": "code",
   "execution_count": 10,
   "metadata": {
    "collapsed": false
   },
   "outputs": [],
   "source": [
    "educationDic = {'unknown':0, 'primary':1, 'secondary':2, 'tertiary':3}\n",
    "def encodeEducation(education):\n",
    "    feat = [0]*4\n",
    "    feat[educationDic[education]] = 1\n",
    "    return feat"
   ]
  },
  {
   "cell_type": "code",
   "execution_count": 11,
   "metadata": {
    "collapsed": true
   },
   "outputs": [],
   "source": [
    "maritalDic = {'single':0, 'married':1, 'divorced':2}\n",
    "def encodeMarital(marital):\n",
    "    feat = [0]*3\n",
    "    feat[maritalDic[marital]] = 1\n",
    "    return feat"
   ]
  },
  {
   "cell_type": "code",
   "execution_count": 12,
   "metadata": {
    "collapsed": true
   },
   "outputs": [],
   "source": [
    "jobs = list(set([d['job'] for d in data]))\n",
    "jobDic = {j:i for i,j in enumerate(jobs)}\n",
    "def encodeJob(job):\n",
    "    feat = [0]*len(jobs)\n",
    "    feat[jobDic[job]] = 1\n",
    "    return feat"
   ]
  },
  {
   "cell_type": "code",
   "execution_count": 13,
   "metadata": {
    "collapsed": true
   },
   "outputs": [],
   "source": [
    "contactDic = {'unknown':0, 'telephone':1, 'cellular':2}\n",
    "def encodeContact(contact):\n",
    "    feat = [0] * 3\n",
    "    feat[contactDic[contact]] = 1\n",
    "    return feat\n",
    "#     return [1] if contact == 'unknown' else [0]"
   ]
  },
  {
   "cell_type": "code",
   "execution_count": 14,
   "metadata": {
    "collapsed": true
   },
   "outputs": [],
   "source": [
    "import calendar\n",
    "monthDic = {v.lower(): k for k,v in enumerate(calendar.month_abbr)}\n",
    "def encodeMonth(month):\n",
    "    feat = [0] * 13\n",
    "    feat[monthDic[month]] = 1\n",
    "    return feat"
   ]
  },
  {
   "cell_type": "code",
   "execution_count": 15,
   "metadata": {
    "collapsed": true
   },
   "outputs": [],
   "source": [
    "outcomeDic = {'unknown':0, 'other':1, 'failure':2, 'success':3}\n",
    "def encodeOutcome(outcome):\n",
    "    feat = [0] * 4\n",
    "    feat[outcomeDic[outcome]] = 1\n",
    "    return feat"
   ]
  },
  {
   "cell_type": "code",
   "execution_count": 16,
   "metadata": {
    "collapsed": true
   },
   "outputs": [],
   "source": [
    "def encodeAge(age):\n",
    "    if age <= 25 or age >= 60:\n",
    "        return [1]\n",
    "    else:\n",
    "        return [0]"
   ]
  },
  {
   "cell_type": "code",
   "execution_count": 17,
   "metadata": {
    "collapsed": false
   },
   "outputs": [],
   "source": [
    "def generateFeature_Forest(dataset):\n",
    "    features = []\n",
    "    for data in dataset:        \n",
    "        feat = [data['age'], data['duration'], data['previous'], data['pdays'], data['campaign'], \\\n",
    "                data['housing'] + data['loan'] + data['default']]\\\n",
    "        + encodeMonth(data['month']) + encodeOutcome(data['poutcome']) \\\n",
    "        + encodeContact(data['contact'])\n",
    "\n",
    "        features.append(feat)\n",
    "    return features\n",
    "def generateFeature(dataset):\n",
    "    features = []\n",
    "    for data in dataset:        \n",
    "        feat = [data['age'], data['duration'], data['previous'], data['pdays'], data['campaign']]\\\n",
    "        + encodeMonth(data['month']) + encodeOutcome(data['poutcome']) \\\n",
    "\n",
    "        features.append(feat)\n",
    "    return features"
   ]
  },
  {
   "cell_type": "code",
   "execution_count": 18,
   "metadata": {
    "collapsed": true
   },
   "outputs": [],
   "source": [
    "cwList = []\n",
    "trainList = []\n",
    "validList = []\n",
    "def errorRate(pred, label):\n",
    "    truePositives = len(filter(lambda x: x[0] == x[1] == True, zip(pred, label)))\n",
    "    trueNegatives = len(filter(lambda x: x[0] == x[1] == False, zip(pred, label)))\n",
    "    falsePositives = len(filter(lambda x: x[0] == True and x[1] == False, zip(pred, label)))\n",
    "    falseNegatives = len(filter(lambda x: x[0] == False and x[1] == True, zip(pred, label)))\n",
    "    truePositiveRate = truePositives * 1. / (truePositives + falseNegatives)\n",
    "    trueNegativeRate = trueNegatives * 1. / (trueNegatives + falsePositives)\n",
    "    balanceErrorRate = 1 - 0.5 * (truePositiveRate + trueNegativeRate)\n",
    "    print \"True Positives:\", truePositives\n",
    "    print \"True Negatives:\", trueNegatives\n",
    "    print \"False Positives:\", falsePositives\n",
    "    print \"False Negatives:\", falseNegatives\n",
    "    print \"True Positive Rate:\", truePositiveRate\n",
    "    print \"True Negative Rate:\", trueNegativeRate\n",
    "    print \"Balanced Error Rate:\", balanceErrorRate\n",
    "    return truePositives, trueNegatives, falsePositives, falseNegatives, truePositiveRate, trueNegativeRate, balanceErrorRate"
   ]
  },
  {
   "cell_type": "code",
   "execution_count": 19,
   "metadata": {
    "collapsed": false
   },
   "outputs": [],
   "source": [
    "X_train = generateFeature(trainingData)\n",
    "y_train = [d['y'] for d in trainingData]\n",
    "X_validation = generateFeature(validationData)\n",
    "y_validation = [d['y'] for d in validationData]\n",
    "X_test = generateFeature(testData)\n",
    "y_test = [d['y'] for d in testData]"
   ]
  },
  {
   "cell_type": "code",
   "execution_count": 20,
   "metadata": {
    "collapsed": false
   },
   "outputs": [
    {
     "name": "stdout",
     "output_type": "stream",
     "text": [
      "True Positives: 1\n",
      "True Negatives: 7967\n",
      "False Positives: 5\n",
      "False Negatives: 1069\n",
      "True Positive Rate: 0.000934579439252\n",
      "True Negative Rate: 0.999372804817\n",
      "Balanced Error Rate: 0.499846307872\n",
      "(1, 7967, 5, 1069, 0.0009345794392523365, 0.999372804816859, 0.4998463078719444)\n"
     ]
    }
   ],
   "source": [
    "# Linear\n",
    "linear = linear_model.SGDClassifier()\n",
    "linear.fit(X_train, y_train)\n",
    "validationPredict = linear.predict(X_validation)\n",
    "print errorRate(validationPredict, y_validation)"
   ]
  },
  {
   "cell_type": "code",
   "execution_count": 274,
   "metadata": {
    "collapsed": false,
    "scrolled": true
   },
   "outputs": [
    {
     "name": "stdout",
     "output_type": "stream",
     "text": [
      "True Positives: 819\n",
      "True Negatives: 5835\n",
      "False Positives: 2137\n",
      "False Negatives: 251\n",
      "True Positive Rate: 0.765420560748\n",
      "True Negative Rate: 0.731936778726\n",
      "Balanced Error Rate: 0.251321330263\n",
      "(819, 5835, 2137, 251, 0.7654205607476635, 0.7319367787255394, 0.25132133026339853)\n"
     ]
    }
   ],
   "source": [
    "# Support vector classification\n",
    "clf = svm.SVC(C=0.1, class_weight = {0:1, 1:5})\n",
    "clf.fit(X_train, y_train)\n",
    "trainingPredict = clf.predict(X_train)\n",
    "validationPredict = clf.predict(X_validation)\n",
    "print errorRate(validationPredict, y_validation)"
   ]
  },
  {
   "cell_type": "code",
   "execution_count": 21,
   "metadata": {
    "collapsed": false
   },
   "outputs": [
    {
     "name": "stdout",
     "output_type": "stream",
     "text": [
      "True Positives: 916\n",
      "True Negatives: 6713\n",
      "False Positives: 1259\n",
      "False Negatives: 154\n",
      "True Positive Rate: 0.856074766355\n",
      "True Negative Rate: 0.842072252885\n",
      "Balanced Error Rate: 0.15092649038\n",
      "(916, 6713, 1259, 154, 0.8560747663551402, 0.8420722528850978, 0.15092649037988104)\n"
     ]
    }
   ],
   "source": [
    "# Random Forest Classifier\n",
    "from sklearn.preprocessing import StandardScaler\n",
    "scaler = StandardScaler()\n",
    "\n",
    "X_train_forest = generateFeature_Forest(trainingData)\n",
    "y_train_forest = [d['y'] for d in trainingData]\n",
    "X_validation_forest = generateFeature_Forest(validationData)\n",
    "\n",
    "y_validation_forest = [d['y'] for d in validationData]\n",
    "X_test_forest = generateFeature_Forest(testData)\n",
    "y_test_forest = [d['y'] for d in testData]\n",
    "\n",
    "tree = RandomForestClassifier(n_estimators= 40, max_depth= 10, max_features='log2', bootstrap=True, random_state=0,\\\n",
    "                              class_weight='balanced')\n",
    "tree.fit(X_train_forest, y_train_forest)\n",
    "trainingPredict = tree.predict(X_train_forest)\n",
    "validationPredict = tree.predict(X_validation_forest)\n",
    "print errorRate(validationPredict, y_validation_forest)"
   ]
  },
  {
   "cell_type": "code",
   "execution_count": 28,
   "metadata": {
    "collapsed": false
   },
   "outputs": [
    {
     "data": {
      "text/plain": [
       "['Jan',\n",
       " 'Feb',\n",
       " 'Mar',\n",
       " 'Apr',\n",
       " 'May',\n",
       " 'Jun',\n",
       " 'Jul',\n",
       " 'Aug',\n",
       " 'Sep',\n",
       " 'Oct',\n",
       " 'Nov',\n",
       " 'Dec']"
      ]
     },
     "execution_count": 28,
     "metadata": {},
     "output_type": "execute_result"
    }
   ],
   "source": [
    "months = [calendar.month_abbr[i] for i in range(1,13)]\n",
    "months"
   ]
  },
  {
   "cell_type": "code",
   "execution_count": 34,
   "metadata": {
    "collapsed": false
   },
   "outputs": [
    {
     "name": "stdout",
     "output_type": "stream",
     "text": [
      "[('duration', 0.46826854034863719), ('telephone', 0.083146812667025144), ('housing', 0.064501408042505828), ('cellular', 0.058982451562997792), ('age', 0.053910238220749029), ('pdays', 0.048107824356302197), ('campaign', 0.0246639636569937), ('previous', 0.022755415838133987), ('Feb', 0.021597855463745302), ('Mar', 0.017181146267566911), ('Apr', 0.014983931933317837), ('Sep', 0.014727407470460465), ('May', 0.013742324710705342), ('Dec', 0.013553980629175422), ('Jul', 0.010182051953446746), ('unknown', 0.0095447918053489685), ('Jun', 0.0093889598994923544), ('Oct', 0.0077466080389264917), ('Aug', 0.0054538628746341163), ('Jan', 0.0036338013779752274), ('poutcome', 0.0033894692700222146), ('default', 0.0032435791645343084), ('Nov', 0.0021604030453090651), ('loan', 0.0)]\n"
     ]
    }
   ],
   "source": [
    "feat = ['age', 'duration', 'previous', 'pdays', 'campaign', 'housing', 'loan', 'default', 'month', 'poutcome', 'contact']\n",
    "importance =  tree.feature_importances_\n",
    "zz = zip(feat, importance)\n",
    "zz.sort(key = lambda x:x[1], reverse = True)\n",
    "print zz"
   ]
  },
  {
   "cell_type": "markdown",
   "metadata": {},
   "source": [
    "# Regression"
   ]
  },
  {
   "cell_type": "code",
   "execution_count": 190,
   "metadata": {
    "collapsed": false
   },
   "outputs": [],
   "source": [
    "# Linear regression\n",
    "linear = linear_model.LinearRegression(fit_intercept=True, copy_X=True)\n",
    "linear.fit(X_train, y_train)\n",
    "validationScoreData_linear = zip(linear.predict(X_validation), y_validation)\n",
    "validationScoreData_linear.sort(key = lambda x:x[0], reverse = True)"
   ]
  },
  {
   "cell_type": "code",
   "execution_count": 372,
   "metadata": {
    "collapsed": false
   },
   "outputs": [
    {
     "data": {
      "image/png": "[encoded data removed]",
      "text/plain": [
       "<matplotlib.figure.Figure at 0x114959a90>"
      ]
     },
     "metadata": {},
     "output_type": "display_data"
    }
   ],
   "source": [
    "valiTPR_linear = []\n",
    "valiFPR_linear = []\n",
    "for i in xrange(1, len(y_validation)):\n",
    "    tpr, fpr = calculateAUC(validationScoreData_linear[:i], y_validation)\n",
    "    valiTPR_linear.append(tpr)\n",
    "    valiFPR_linear.append(fpr)\n",
    "plt.plot(valiFPR_linear, valiTPR_linear)\n",
    "plt.xlim(0,0.3)\n",
    "plt.grid()"
   ]
  },
  {
   "cell_type": "code",
   "execution_count": 221,
   "metadata": {
    "collapsed": true
   },
   "outputs": [],
   "source": [
    "# Support vector regression\n",
    "clf = svm.SVR(C=0.1)\n",
    "clf.fit(X_train, y_train) \n",
    "# trainingScoreData_svr = zip(clf.predict(X_train), y_train)\n",
    "# trainingScoreData_svr.sort(key = lambda x:x[0], reverse = True)\n",
    "validationScoreData_svr = zip(clf.predict(X_validation), y_validation)\n",
    "validationScoreData_svr.sort(key = lambda x:x[0], reverse = True)"
   ]
  },
  {
   "cell_type": "code",
   "execution_count": 371,
   "metadata": {
    "collapsed": false
   },
   "outputs": [
    {
     "data": {
      "image/png": "[encoded data removed]",
      "text/plain": [
       "<matplotlib.figure.Figure at 0x114968990>"
      ]
     },
     "metadata": {},
     "output_type": "display_data"
    }
   ],
   "source": [
    "valiTPR_svr = []\n",
    "valiFPR_svr = []\n",
    "for i in xrange(1, len(y_validation)):\n",
    "    tpr, fpr = calculateAUC(validationScoreData_svr[:i], y_validation)\n",
    "    valiTPR_svr.append(tpr)\n",
    "    valiFPR_svr.append(fpr)\n",
    "plt.plot(valiFPR_svr, valiTPR_svr)\n",
    "plt.xlim(0,0.3)\n",
    "plt.grid()"
   ]
  },
  {
   "cell_type": "code",
   "execution_count": 365,
   "metadata": {
    "collapsed": false
   },
   "outputs": [],
   "source": [
    "# RandomForestRegressor\n",
    "tree = RandomForestRegressor(n_estimators= 40, max_depth= 8, max_features='log2', bootstrap=True, random_state=0)\n",
    "tree.fit(X_train_forest, y_train_forest)\n",
    "# trainingPredict = tree.predict(X_train)\n",
    "validationPredict = tree.predict(X_validation_forest)\n",
    "\n",
    "# trainingScoreData_randomforest = zip(tree.predict(X_train_forest), y_train_forest)\n",
    "# trainingScoreData_randomforest.sort(key = lambda x:x[0], reverse = True)\n",
    "validationScoreData_randomforest = zip(tree.predict(X_validation_forest), y_validation_forest)\n",
    "validationScoreData_randomforest.sort(key = lambda x:x[0], reverse = True)"
   ]
  },
  {
   "cell_type": "code",
   "execution_count": 368,
   "metadata": {
    "collapsed": false
   },
   "outputs": [],
   "source": [
    "valiTPR_randomforest = []\n",
    "valiFPR_randomforest = []\n",
    "for i in xrange(1, len(y_validation_forest)):\n",
    "    tpr, fpr = calculateAUC(validationScoreData_randomforest[:i], y_validation_forest)\n",
    "    valiTPR_randomforest.append(tpr)\n",
    "    valiFPR_randomforest.append(fpr)"
   ]
  },
  {
   "cell_type": "code",
   "execution_count": 379,
   "metadata": {
    "collapsed": false
   },
   "outputs": [
    {
     "data": {
      "image/png": "[encoded data removed]",
      "text/plain": [
       "<matplotlib.figure.Figure at 0x115b10990>"
      ]
     },
     "metadata": {},
     "output_type": "display_data"
    }
   ],
   "source": [
    "plt.plot([x*0.001 for x in range(0,1000)],[x*0.001 for x in range(0,1000)])\n",
    "plt.plot(valiFPR_linear, valiTPR_linear)\n",
    "plt.plot(valiFPR_randomforest, valiTPR_randomforest)\n",
    "plt.plot(valiFPR_svr, valiTPR_svr)\n",
    "plt.legend(['baseline', 'linear', 'random forest tree', 'support vector machine'], loc='lower right')\n",
    "plt.grid()\n",
    "plt.xlabel('FPR')\n",
    "plt.ylabel('TPR')\n",
    "plt.xlim(0,1.0)\n",
    "plt.ylim(0,1.05)\n",
    "plt.savefig(\"AUC.png\")"
   ]
  },
  {
   "cell_type": "code",
   "execution_count": 96,
   "metadata": {
    "collapsed": false
   },
   "outputs": [],
   "source": [
    "def calculatePrecisionAndRecall(retrievedScore, y):\n",
    "    precision = len(filter(lambda x: x[1] > 0, retrievedScore)) * 1.0 / len(retrievedScore)\n",
    "    recall = len(filter(lambda x: x[1] > 0, retrievedScore)) * 1.0 / sum(y)\n",
    "    return precision, recall"
   ]
  },
  {
   "cell_type": "code",
   "execution_count": 101,
   "metadata": {
    "collapsed": true
   },
   "outputs": [],
   "source": [
    "def calculateAUC(retrievedScore, y):\n",
    "    truePositiveRate = sum([x[1] > 0 for x in retrievedScore]) * 1. / sum(y)\n",
    "    falsePositiveRate = sum([x[1] == 0 for x in retrievedScore]) * 1. / (len(y)-sum(y))\n",
    "    return  truePositiveRate, falsePositiveRate"
   ]
  },
  {
   "cell_type": "code",
   "execution_count": 111,
   "metadata": {
    "collapsed": false
   },
   "outputs": [
    {
     "data": {
      "image/png": "[encoded data removed]",
      "text/plain": [
       "<matplotlib.figure.Figure at 0x11447c7d0>"
      ]
     },
     "metadata": {},
     "output_type": "display_data"
    }
   ],
   "source": [
    "trainPrecisionPath = []\n",
    "trainRecallPath = []\n",
    "trainTPR = []\n",
    "trainFPR = []\n",
    "for i in xrange(1, 10000):\n",
    "#     precision, recall = calculatePrecisionAndRecall(trainingScoreData[:i], y_train)\n",
    "    tpr, fpr = calculateAUC(trainingScoreData[:i], y_train)\n",
    "#     trainPrecisionPath.append(precision)\n",
    "#     trainRecallPath.append(recall)\n",
    "    trainTPR.append(tpr)\n",
    "    trainFPR.append(fpr)\n",
    "# plt.plot(trainRecallPath, trainPrecisionPath)\n",
    "# plt.xlabel(\"recall\")\n",
    "# plt.ylabel(\"precision\")\n",
    "plt.plot(trainFPR, trainTPR)\n",
    "plt.grid()\n",
    "# plt.savefig(\"train_PR.png\")"
   ]
  },
  {
   "cell_type": "code",
   "execution_count": null,
   "metadata": {
    "collapsed": true
   },
   "outputs": [],
   "source": []
  }
 ],
 "metadata": {
  "anaconda-cloud": {},
  "kernelspec": {
   "display_name": "Python 2",
   "language": "python",
   "name": "python2"
  }
 },
 "nbformat": 4,
 "nbformat_minor": 2
}
