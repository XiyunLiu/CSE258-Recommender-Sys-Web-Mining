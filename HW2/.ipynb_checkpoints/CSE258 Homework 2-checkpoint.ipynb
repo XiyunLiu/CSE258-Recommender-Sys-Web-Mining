{
 "cells": [
  {
   "cell_type": "code",
   "execution_count": 1,
   "metadata": {
    "collapsed": true
   },
   "outputs": [],
   "source": [
    "%matplotlib inline"
   ]
  },
  {
   "cell_type": "code",
   "execution_count": 2,
   "metadata": {
    "collapsed": true
   },
   "outputs": [],
   "source": [
    "import numpy as np\n",
    "import urllib\n",
    "import scipy.optimize\n",
    "import random\n",
    "from math import exp\n",
    "from math import log\n",
    "import matplotlib.pyplot as plt\n",
    "from sklearn.decomposition import PCA\n",
    "from sklearn.metrics import mean_squared_error"
   ]
  },
  {
   "cell_type": "code",
   "execution_count": 3,
   "metadata": {
    "collapsed": false
   },
   "outputs": [
    {
     "name": "stdout",
     "output_type": "stream",
     "text": [
      "Reading data...\n",
      "done\n"
     ]
    }
   ],
   "source": [
    "random.seed(0)\n",
    "\n",
    "def parseData(fname):\n",
    "  for l in urllib.urlopen(fname):\n",
    "    yield eval(l)\n",
    "\n",
    "print \"Reading data...\"\n",
    "dataFile = open(\"../HW1/winequality-white.csv\")\n",
    "header = dataFile.readline()\n",
    "fields = [\"constant\"] + header.strip().replace('\"','').split(';')\n",
    "featureNames = fields[:-1]\n",
    "labelName = fields[-1]\n",
    "lines = [[1.0] + [float(x) for x in l.split(';')] for l in dataFile]\n",
    "rawLines = lines[:]\n",
    "random.shuffle(lines)\n",
    "\n",
    "X = [l[:-1] for l in lines]\n",
    "y = [l[-1] > 5 for l in lines]\n",
    "print \"done\""
   ]
  },
  {
   "cell_type": "code",
   "execution_count": 4,
   "metadata": {
    "collapsed": true
   },
   "outputs": [],
   "source": [
    "X_train = X[:int(len(X)/3)]\n",
    "y_train = y[:int(len(y)/3)]\n",
    "X_validate = X[int(len(X)/3):int(2*len(X)/3)]\n",
    "y_validate = y[int(len(y)/3):int(2*len(y)/3)]\n",
    "X_test = X[int(2*len(X)/3):]\n",
    "y_test = y[int(2*len(X)/3):]"
   ]
  },
  {
   "cell_type": "code",
   "execution_count": 5,
   "metadata": {
    "collapsed": false
   },
   "outputs": [],
   "source": [
    "def inner(x,y):\n",
    "  return sum([x[i]*y[i] for i in range(len(x))])\n",
    "\n",
    "def sigmoid(x):\n",
    "  return 1.0 / (1 + exp(-x))\n",
    "\n",
    "##################################################\n",
    "# Logistic regression by gradient ascent         #\n",
    "##################################################\n",
    "\n",
    "# NEGATIVE Log-likelihood\n",
    "def f(theta, X, y, lam):\n",
    "  loglikelihood = 0\n",
    "  for i in range(len(X)):\n",
    "    logit = inner(X[i], theta)\n",
    "    loglikelihood -= log(1 + exp(-logit))\n",
    "    if not y[i]:\n",
    "      loglikelihood -= logit\n",
    "  for k in range(len(theta)):\n",
    "    loglikelihood -= lam * theta[k]*theta[k]\n",
    "  # for debugging\n",
    "  # print \"ll =\", loglikelihood\n",
    "  return -loglikelihood\n",
    "\n",
    "# NEGATIVE Derivative of log-likelihood\n",
    "def fprime(theta, X, y, lam):\n",
    "  dl = [0]*len(theta)\n",
    "  for i in range(len(X)):\n",
    "    logit = inner(X[i], theta)\n",
    "    for k in range(len(theta)):\n",
    "      dl[k] += X[i][k] * (1 - sigmoid(logit))\n",
    "      if not y[i]:\n",
    "        dl[k] -= X[i][k]\n",
    "  for k in range(len(theta)):\n",
    "    dl[k] -= lam*2*theta[k]\n",
    "  return np.array([-x for x in dl])\n",
    "\n",
    "\n",
    "##################################################\n",
    "# Train                                          #\n",
    "##################################################\n",
    "\n",
    "def train(lam):\n",
    "  theta,_,_ = scipy.optimize.fmin_l_bfgs_b(f, [0]*len(X[0]), fprime, pgtol = 10, args = (X_train, y_train, lam))\n",
    "  return theta\n",
    "\n",
    "##################################################\n",
    "# Predict                                        #\n",
    "##################################################\n",
    "\n",
    "def performance(theta):\n",
    "  scores_train = [inner(theta,x) for x in X_train]\n",
    "  scores_validate = [inner(theta,x) for x in X_validate]\n",
    "  scores_test = [inner(theta,x) for x in X_test]\n",
    "\n",
    "  predictions_train = [s > 0 for s in scores_train]\n",
    "  predictions_validate = [s > 0 for s in scores_validate]\n",
    "  predictions_test = [s > 0 for s in scores_test]\n",
    "\n",
    "  correct_train = [(a==b) for (a,b) in zip(predictions_train,y_train)]\n",
    "  correct_validate = [(a==b) for (a,b) in zip(predictions_validate,y_validate)]\n",
    "  correct_test = [(a==b) for (a,b) in zip(predictions_test,y_test)]\n",
    "  \n",
    "  acc_train = sum(correct_train) * 1.0 / len(correct_train)\n",
    "  acc_validate = sum(correct_validate) * 1.0 / len(correct_validate)\n",
    "  acc_test = sum(correct_test) * 1.0 / len(correct_test)\n",
    "  return acc_train, acc_validate, acc_test\n",
    "\n",
    "##################################################\n",
    "# Validation pipeline                            #\n",
    "##################################################"
   ]
  },
  {
   "cell_type": "markdown",
   "metadata": {},
   "source": [
    "# Problem 1\n",
    "lambda = 0;\ttrain=0.752450980392; validate=0.758726270667; test=0.738518064911\n",
    "\n",
    "lambda = 0.01;\ttrain=0.748774509804; validate=0.757501530925; test=0.738518064911\n",
    "\n",
    "lambda = 1.0;\ttrain=0.732230392157; validate=0.756889161053; test=0.731781996326\n",
    "\n",
    "lambda = 100.0;\ttrain=0.66237745098; validate=0.681567666871; test=0.680342927128\n"
   ]
  },
  {
   "cell_type": "code",
   "execution_count": 6,
   "metadata": {
    "collapsed": false
   },
   "outputs": [
    {
     "name": "stdout",
     "output_type": "stream",
     "text": [
      "lambda = 0;\ttrain=0.752450980392; validate=0.758726270667; test=0.738518064911\n",
      "lambda = 0.01;\ttrain=0.748774509804; validate=0.757501530925; test=0.738518064911\n",
      "lambda = 1.0;\ttrain=0.732230392157; validate=0.756889161053; test=0.731781996326\n",
      "lambda = 100.0;\ttrain=0.66237745098; validate=0.681567666871; test=0.680342927128\n"
     ]
    }
   ],
   "source": [
    "for lam in [0, 0.01, 1.0, 100.0]:\n",
    "  theta = train(lam)\n",
    "  acc_train, acc_validate, acc_test = performance(theta)\n",
    "  print(\"lambda = \" + str(lam) + \";\\ttrain=\" + str(acc_train) + \"; validate=\" + str(acc_validate) + \"; test=\" + str(acc_test))"
   ]
  },
  {
   "cell_type": "markdown",
   "metadata": {},
   "source": [
    "# Problem 2\n",
    "Total: 1633\n",
    "\n",
    "True Positives: 1129\n",
    "\n",
    "True Negatives: 145\n",
    "\n",
    "False Positives: 321\n",
    "\n",
    "False Negatives: 38\n",
    "\n",
    "Balanced Error Rate: 0.360701663412\n"
   ]
  },
  {
   "cell_type": "code",
   "execution_count": 7,
   "metadata": {
    "collapsed": true
   },
   "outputs": [],
   "source": [
    "X = [l[:-1] for l in rawLines]\n",
    "y = [l[-1] > 5 for l in rawLines]\n",
    "X_train = X[:int(len(X)/3)]\n",
    "y_train = y[:int(len(y)/3)]\n",
    "X_validate = X[int(len(X)/3):int(2*len(X)/3)]\n",
    "y_validate = y[int(len(y)/3):int(2*len(y)/3)]\n",
    "X_test = X[int(2*len(X)/3):]\n",
    "y_test = y[int(2*len(X)/3):]"
   ]
  },
  {
   "cell_type": "code",
   "execution_count": 8,
   "metadata": {
    "collapsed": true
   },
   "outputs": [],
   "source": [
    "theta = train(0.01)\n",
    "scores_test = [inner(theta,x) for x in X_test]\n",
    "predictions_test = map(lambda s: True if s > 0 else False, scores_test)"
   ]
  },
  {
   "cell_type": "code",
   "execution_count": 9,
   "metadata": {
    "collapsed": false
   },
   "outputs": [
    {
     "name": "stdout",
     "output_type": "stream",
     "text": [
      "Total: 1633\n",
      "True Positives: 1129\n",
      "True Negatives: 145\n",
      "False Positives: 321\n",
      "False Negatives: 38\n",
      "Balanced Error Rate: 0.360701663412\n"
     ]
    }
   ],
   "source": [
    "print \"Total:\", len(y_test)\n",
    "truePositives = len(filter(lambda x: x[0] == x[1] == True, zip(predictions_test, y_test)))\n",
    "trueNegatives = len(filter(lambda x: x[0] == x[1] == False, zip(predictions_test, y_test)))\n",
    "falsePositives = len(filter(lambda x: x[0] == True and x[1] == False, zip(predictions_test, y_test)))\n",
    "falseNegatives = len(filter(lambda x: x[0] == False and x[1] == True, zip(predictions_test, y_test)))\n",
    "truePositiveRate = truePositives * 1. / (truePositives + falseNegatives)\n",
    "trueNegativeRate = trueNegatives * 1. / (trueNegatives + falsePositives)\n",
    "balanceErrorRate = 1 - 0.5 * (truePositiveRate + trueNegativeRate)\n",
    "print \"True Positives:\", truePositives\n",
    "print \"True Negatives:\", trueNegatives\n",
    "print \"False Positives:\", falsePositives\n",
    "print \"False Negatives:\", falseNegatives\n",
    "print \"Balanced Error Rate:\", balanceErrorRate"
   ]
  },
  {
   "cell_type": "markdown",
   "metadata": {},
   "source": [
    "# Problem 3\n",
    "Retrieve 10 data, precision is 1.0 , recall is 0.00856898029135\n",
    "\n",
    "Retrieve 500 data, precision is 0.956 , recall is 0.409597257926\n",
    "\n",
    "Retrieve 1000 data, precision is 0.864 , recall is 0.740359897172"
   ]
  },
  {
   "cell_type": "code",
   "execution_count": 10,
   "metadata": {
    "collapsed": true
   },
   "outputs": [],
   "source": [
    "scoreData = zip(scores_test, y_test)\n",
    "scoreData.sort(key = lambda x:x[0], reverse = True)"
   ]
  },
  {
   "cell_type": "code",
   "execution_count": 70,
   "metadata": {
    "collapsed": false
   },
   "outputs": [],
   "source": [
    "def calculatePrecisionAndRecall(scoreData, i):\n",
    "    retrievedData = scoreData[:i]\n",
    "    precision = len(filter(lambda x: x[1] > 0, retrievedData)) * 1.0 / i\n",
    "    recall = len(filter(lambda x: x[1] > 0, retrievedData)) * 1.0 / sum(y_test)\n",
    "    return precision, recall"
   ]
  },
  {
   "cell_type": "code",
   "execution_count": 71,
   "metadata": {
    "collapsed": false
   },
   "outputs": [
    {
     "name": "stdout",
     "output_type": "stream",
     "text": [
      "Retrieve 10 data, precision is 1.0 , recall is 0.00856898029135\n",
      "Retrieve 500 data, precision is 0.956 , recall is 0.409597257926\n",
      "Retrieve 1000 data, precision is 0.864 , recall is 0.740359897172\n"
     ]
    }
   ],
   "source": [
    "for i in [10, 500, 1000]:\n",
    "    precision, recall = calculatePrecisionAndRecall(scoreData, i)\n",
    "    print \"Retrieve\", i,\"data, precision is\", precision, \", recall is\", recall"
   ]
  },
  {
   "cell_type": "markdown",
   "metadata": {},
   "source": [
    "# Problem 4"
   ]
  },
  {
   "cell_type": "code",
   "execution_count": 72,
   "metadata": {
    "collapsed": false
   },
   "outputs": [
    {
     "data": {
      "text/plain": [
       "<matplotlib.text.Text at 0x10aa35250>"
      ]
     },
     "execution_count": 72,
     "metadata": {},
     "output_type": "execute_result"
    },
    {
     "data": {
      "image/png": "[encoded data removed]",
      "text/plain": [
       "<matplotlib.figure.Figure at 0x10abaea10>"
      ]
     },
     "metadata": {},
     "output_type": "display_data"
    }
   ],
   "source": [
    "precisionPath = []\n",
    "recallPath = []\n",
    "for i in xrange(1, len(y_test)):\n",
    "    precision, recall = calculatePrecisionAndRecall(scoreData, i)\n",
    "    precisionPath.append(precision)\n",
    "    recallPath.append(recall)\n",
    "plt.plot(recallPath, precisionPath)\n",
    "plt.xlabel(\"recall\")\n",
    "plt.ylabel(\"precision\")"
   ]
  },
  {
   "cell_type": "markdown",
   "metadata": {},
   "source": [
    "# Problem 5\n",
    "3675818.6168781249"
   ]
  },
  {
   "cell_type": "code",
   "execution_count": 17,
   "metadata": {
    "collapsed": false
   },
   "outputs": [
    {
     "data": {
      "text/plain": [
       "3675818.6168781249"
      ]
     },
     "execution_count": 17,
     "metadata": {},
     "output_type": "execute_result"
    }
   ],
   "source": [
    "np.sum(np.var(X_train, axis=0) * len(X_train))"
   ]
  },
  {
   "cell_type": "markdown",
   "metadata": {},
   "source": [
    "# Problem 6"
   ]
  },
  {
   "cell_type": "code",
   "execution_count": 33,
   "metadata": {
    "collapsed": false
   },
   "outputs": [
    {
     "data": {
      "text/plain": [
       "array([[  3.23636346e-04,  -1.42201752e-04,  -3.17030713e-04,\n",
       "         -5.36390435e-02,  -9.30284526e-05,  -2.54030965e-01,\n",
       "         -9.65655009e-01,  -3.19990241e-05,   2.95831396e-04,\n",
       "         -3.84043646e-04,   1.00526693e-02],\n",
       "       [ -7.57985623e-03,  -1.66366340e-03,   1.04742899e-03,\n",
       "          5.21677266e-02,   4.49425600e-05,   9.65020304e-01,\n",
       "         -2.56793964e-01,   7.90089050e-06,   5.24900596e-04,\n",
       "         -1.09699394e-03,  -2.89827657e-03],\n",
       "       [  1.82124420e-02,   2.54680710e-03,   3.31838657e-03,\n",
       "          9.93221259e-01,  -1.51888372e-04,  -6.42297821e-02,\n",
       "         -3.91682592e-02,   4.30929482e-04,  -6.93199060e-03,\n",
       "         -2.85216045e-03,  -8.62920933e-02],\n",
       "       [ -1.56811999e-01,  -3.28220652e-03,  -1.66866136e-02,\n",
       "         -8.28549640e-02,   6.91822288e-03,  -1.13029682e-03,\n",
       "         -5.39110108e-03,   9.49080503e-04,  -2.68027305e-03,\n",
       "         -1.30498102e-03,  -9.83955205e-01],\n",
       "       [ -9.81360642e-01,   1.45890108e-02,  -5.92643662e-02,\n",
       "          3.17546064e-02,  -5.07483182e-04,  -8.43759364e-03,\n",
       "          1.77578042e-03,  -6.03725221e-04,   9.05011239e-02,\n",
       "          9.35630845e-03,   1.54417839e-01],\n",
       "       [ -7.76578401e-02,   2.37665885e-01,  -2.23406619e-02,\n",
       "         -5.04113878e-03,   1.43564098e-02,   2.14210997e-04,\n",
       "          2.22913844e-04,  -3.36617054e-03,  -8.77254205e-01,\n",
       "         -4.08570175e-01,   1.54145486e-02],\n",
       "       [ -7.36289612e-02,  -2.61563804e-01,   9.43067566e-01,\n",
       "         -2.14514264e-03,   1.19104298e-02,  -1.68808905e-03,\n",
       "          1.42294158e-04,  -1.17203197e-04,  -1.45895558e-01,\n",
       "          1.23868963e-01,  -2.88797236e-03],\n",
       "       [  1.37617196e-02,  -2.11129619e-01,   1.16514121e-01,\n",
       "         -5.30670319e-04,  -1.05181628e-02,  -1.36446528e-03,\n",
       "          8.21179429e-04,  -3.09221855e-04,   3.58358431e-01,\n",
       "         -9.01728510e-01,  -3.27758247e-03],\n",
       "       [ -1.74575775e-02,  -9.10890084e-01,  -3.04081497e-01,\n",
       "          2.89763923e-03,  -2.34615054e-02,  -1.17406025e-03,\n",
       "          3.85957239e-04,  -1.23176271e-03,  -2.68927937e-01,\n",
       "          6.70756658e-02,   1.12101920e-02],\n",
       "       [  2.31513441e-03,  -2.38717789e-02,  -1.67445603e-02,\n",
       "          8.92206499e-04,   9.99462734e-01,  -9.81109101e-05,\n",
       "         -3.32812875e-05,   4.14235255e-03,   1.18483756e-02,\n",
       "         -3.51543098e-03,   6.92344110e-03],\n",
       "       [  7.48312160e-04,   3.08204153e-04,   2.55232500e-04,\n",
       "          3.49846801e-04,   4.12943179e-03,  -6.96565372e-06,\n",
       "          4.16951216e-06,  -9.99984215e-01,   3.17948604e-03,\n",
       "          1.53436134e-03,  -1.10029138e-03]])"
      ]
     },
     "execution_count": 33,
     "metadata": {},
     "output_type": "execute_result"
    }
   ],
   "source": [
    "pca = PCA(n_components = 11)\n",
    "pca.fit(map(lambda line: line[1:], X_train))\n",
    "pca.components_"
   ]
  },
  {
   "cell_type": "markdown",
   "metadata": {},
   "source": [
    "# Problem 7\n",
    "The reconstruction error is 1345.4755741"
   ]
  },
  {
   "cell_type": "code",
   "execution_count": 42,
   "metadata": {
    "collapsed": false,
    "scrolled": true
   },
   "outputs": [
    {
     "name": "stdout",
     "output_type": "stream",
     "text": [
      "1345.4755741\n"
     ]
    }
   ],
   "source": [
    "print np.sum(pca.explained_variance_[4:])*len(X_train)"
   ]
  },
  {
   "cell_type": "markdown",
   "metadata": {
    "collapsed": true
   },
   "source": [
    "# Problem 8"
   ]
  },
  {
   "cell_type": "code",
   "execution_count": 78,
   "metadata": {
    "collapsed": false
   },
   "outputs": [],
   "source": [
    "y = [l[-1] for l in rawLines]\n",
    "y_train = y[:int(len(y)/3)]\n",
    "y_validate = y[int(len(y)/3):int(2*len(y)/3)]\n",
    "y_test = y[int(2*len(X)/3):]\n",
    "trainMSEPath = []\n",
    "testMSEPath = []\n",
    "for i in range(1, 12):\n",
    "    pca = PCA(n_components = i)    \n",
    "    pcaTrain = pca.fit_transform([line[1:] for line in X_train])\n",
    "    theta_pca, residuals_pca = np.linalg.lstsq([np.concatenate(([1],x)) for x in pcaTrain], y_train)[:2]\n",
    "    testMSEPath.append(mean_squared_error(\n",
    "            np.dot([np.concatenate(([1],x)) for x in pca.transform([line[1:] for line in X_test])],\n",
    "                    theta_pca), y_test))\n",
    "    trainMSEPath.append(residuals_pca[0] * 1.0 / len(X_train))"
   ]
  },
  {
   "cell_type": "code",
   "execution_count": 79,
   "metadata": {
    "collapsed": false
   },
   "outputs": [
    {
     "data": {
      "image/png": "[encoded data removed]",
      "text/plain": [
       "<matplotlib.figure.Figure at 0x109bc2590>"
      ]
     },
     "metadata": {},
     "output_type": "display_data"
    }
   ],
   "source": [
    "trainMSE, = plt.plot([i for i in range(1,12)], trainMSEPath)\n",
    "testMSE, = plt.plot([i for i in range(1,12)], testMSEPath)\n",
    "plt.xlabel('n (components)')\n",
    "plt.ylabel(\"MSE\")\n",
    "plt.legend([trainMSE, testMSE], [\"training MSE\", \"test MSE\"])\n",
    "plt.grid(True)"
   ]
  },
  {
   "cell_type": "code",
   "execution_count": 80,
   "metadata": {
    "collapsed": false
   },
   "outputs": [
    {
     "name": "stdout",
     "output_type": "stream",
     "text": [
      "training set MSE:  [0.86384243973592467, 0.84466943185576104, 0.82751611558520233, 0.69738327887529017, 0.68550155987924033, 0.66085398898732828, 0.65919451154521835, 0.65848602461025951, 0.6368566142782337, 0.63468781914815597, 0.6172117585435698]\n",
      "test set MSE: [0.66348348996669348, 0.65558749316694087, 0.67835915193077712, 0.59909062198093932, 0.62319815648298638, 0.60387838007106476, 0.59727995924898203, 0.59450622441185885, 0.55550509614579957, 0.55620192020637338, 0.56887177280487922]\n"
     ]
    }
   ],
   "source": [
    "print \"training set MSE: \",trainMSEPath\n",
    "print \"test set MSE:\", testMSEPath"
   ]
  },
  {
   "cell_type": "code",
   "execution_count": null,
   "metadata": {
    "collapsed": true
   },
   "outputs": [],
   "source": []
  }
 ],
 "metadata": {
  "kernelspec": {
   "display_name": "Python 2",
   "language": "python",
   "name": "python2"
  },
  "language_info": {
   "codemirror_mode": {
    "name": "ipython",
    "version": 2
   },
   "file_extension": ".py",
   "mimetype": "text/x-python",
   "name": "python",
   "nbconvert_exporter": "python",
   "pygments_lexer": "ipython2",
   "version": "2.7.10"
  }
 },
 "nbformat": 4,
 "nbformat_minor": 0
}
